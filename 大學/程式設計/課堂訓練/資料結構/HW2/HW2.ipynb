{
 "cells": [
  {
   "cell_type": "markdown",
   "id": "1cd383bc",
   "metadata": {},
   "source": [
    "## Homework 2 - Programming Problem (Data Structures, Fall 2023)\n",
    "\n",
    "### Name:\n",
    "### Student ID Number:"
   ]
  },
  {
   "cell_type": "markdown",
   "id": "96323786-876c-4770-a86e-fb135985c4ba",
   "metadata": {},
   "source": [
    "### Problem 6 \n",
    " The **binomial coefficients** may be defined by the following recurrence relation, which is the idea of ***Pascal's triangle***. The top of Pascal's triangle is shown as below.\n",
    "\\begin{eqnarray}\n",
    "  C(n,0)=1 ~~~~~~ C(n,n)=1     &  \\mbox{for } n\\geq 0 \\\\\n",
    "  C(n,k)=C(n-1,k)+C(n-1,k-1)~~ &  \\mbox{for } n>k>0 \\\\\n",
    "\\end{eqnarray}\n",
    "\n",
    "<img src=Pascal_triangle.png  width=\"400\" height=\"200\">\n",
    " \n",
    "1. Draw the *recursion tree* for calculating $C(6,4)$.\n",
    "2. Write a function `PA_r()` using a *recursive* way to generate Pascal's triangle in the lower left half of the array.\n",
    "3. As (2), write a *nonrecursive* function `PA_n()` to generate Pascal's triangle in the lower left half of the array.\n",
    "4. Again, write a *nonrecursive* program `PA_d()` that uses neither an array to calculate each $C(n,k)$ directly.\n",
    "5. Please do some experiments by yourself to observe the running time and perform a comparison on these three versions by the execution time. Thus, you need to write a Python program to do the comparison, which will call `PA_r()`, `PA_n()`, and `PA_d()`, respectively. Please see the execution example below. To measure the execution time. Please use Python's `timeit` module to do the measurement.\n",
    "6. Determine the approximate space and time requirements for each of the algorithms devised in parts (2), (3), and (4)."
   ]
  },
  {
   "cell_type": "markdown",
   "id": "2fb0b104-45c7-4e2c-87e1-ae8174e67dc9",
   "metadata": {},
   "source": [
    "1. Draw the *recursion tree* for calculating $C(6,4)$."
   ]
  },
  {
   "cell_type": "markdown",
   "id": "88a39cb4-7ac9-4907-9333-fdd74479c97b",
   "metadata": {},
   "source": []
  },
  {
   "cell_type": "markdown",
   "id": "71418872-b7dc-40bc-99c4-394fcf60e338",
   "metadata": {},
   "source": [
    "2. Write a function `PA_r()` using a *recursive* way to generate Pascal's triangle in the lower left half of the array."
   ]
  },
  {
   "cell_type": "code",
   "execution_count": 1,
   "id": "bec3be7e-34da-4dcb-973a-3e9b582e42da",
   "metadata": {},
   "outputs": [
    {
     "name": "stdout",
     "output_type": "stream",
     "text": [
      "[[1], [1, 1], [1, 2, 1], [1, 3, 3, 1], [1, 4, 6, 4, 1], [1, 5, 10, 10, 5, 1], [1, 6, 15, 20, 15, 6, 1], [1, 7, 21, 35, 35, 21, 7, 1], [1, 8, 28, 56, 70, 56, 28, 8, 1], [1, 9, 36, 84, 126, 126, 84, 36, 9, 1]]\n"
     ]
    }
   ],
   "source": [
    "def PA_r(n):\n",
    "\n",
    "    \n",
    "result=PA_r(10)\n",
    "print(result)"
   ]
  },
  {
   "cell_type": "markdown",
   "id": "bc50109d-f74e-4bf6-9253-ecdb180b8367",
   "metadata": {},
   "source": [
    "3. As (2), write a *nonrecursive* function `PA_n()` to generate Pascal's triangle in the lower left half of the array."
   ]
  },
  {
   "cell_type": "code",
   "execution_count": 2,
   "id": "5f183cca-ec54-42a2-9b71-29229f62bbb6",
   "metadata": {},
   "outputs": [
    {
     "name": "stdout",
     "output_type": "stream",
     "text": [
      "[[1], [1, 1], [1, 2, 1], [1, 3, 3, 1], [1, 4, 6, 4, 1], [1, 5, 10, 10, 5, 1], [1, 6, 15, 20, 15, 6, 1], [1, 7, 21, 35, 35, 21, 7, 1], [1, 8, 28, 56, 70, 56, 28, 8, 1], [1, 9, 36, 84, 126, 126, 84, 36, 9, 1]]\n"
     ]
    }
   ],
   "source": [
    "def PA_d(n):\n",
    "\n",
    "\n",
    "result=PA_d(10)\n",
    "print(result)"
   ]
  },
  {
   "cell_type": "markdown",
   "id": "7bb918d4-1375-48da-a518-471b8608e8d8",
   "metadata": {},
   "source": [
    "4. Again, write a *nonrecursive* program `PA_d()` that uses neither an array to calculate each $C(n,k)$ directly."
   ]
  },
  {
   "cell_type": "code",
   "execution_count": 3,
   "id": "205e0ae5-7dce-4d4c-a3c9-f314b1a86a1e",
   "metadata": {},
   "outputs": [
    {
     "name": "stdout",
     "output_type": "stream",
     "text": [
      "[[1], [1, 1], [1, 2, 1], [1, 3, 3, 1], [1, 4, 6, 4, 1], [1, 5, 10, 10, 5, 1], [1, 6, 15, 20, 15, 6, 1], [1, 7, 21, 35, 35, 21, 7, 1], [1, 8, 28, 56, 70, 56, 28, 8, 1], [1, 9, 36, 84, 126, 126, 84, 36, 9, 1]]\n"
     ]
    }
   ],
   "source": [
    "def PA_n(n):\n",
    "\n",
    "       \n",
    "result=PA_n(10)\n",
    "print(result)"
   ]
  },
  {
   "cell_type": "markdown",
   "id": "98283dc8-9d39-4b19-85a1-c42dd1ea86f9",
   "metadata": {},
   "source": [
    "5. Please do some experiments by yourself to observe the running time and perform a comparison on these three versions by the execution time. Thus, you need to write a Python program to do the comparison, which will call `PA_r()`, `PA_n()`, and `PA_d()`, respectively. Please see the execution example below. To measure the execution time. Please use Python's `timeit` module to do the measurement."
   ]
  },
  {
   "cell_type": "code",
   "execution_count": null,
   "id": "f40f2fe8-d6d7-4edf-9ae7-39eb2259abad",
   "metadata": {},
   "outputs": [
    {
     "name": "stdin",
     "output_type": "stream",
     "text": [
      "input the degree n:  7\n",
      "input the kth term k:  4\n"
     ]
    },
    {
     "name": "stdout",
     "output_type": "stream",
     "text": [
      "Recursion on          C[ 7 ][ 4 ]= 35 ; excution time:  1.9885999790858477e-05\n",
      "Non-Recursion on      C[ 7 ][ 4 ]= 35 ; excution time:  1.322499883826822e-05\n",
      "Direct Computation on C[ 7 ][ 4 ]= 35 ; excution time:  4.993999027647078e-06\n"
     ]
    }
   ],
   "source": [
    "import timeit as ti\n",
    "\n",
    "def PA_r(C,n,k):\n",
    "\n",
    "\n",
    "def PA_n(C,n,k):\n",
    "\n",
    "    \n",
    "def PA_d(C,n,k):\n",
    "\n",
    "# degree n:\n",
    "# kth term k:\n"
   ]
  },
  {
   "cell_type": "markdown",
   "id": "c8c1bdd2-6be9-45f5-82b0-5667caa10f7b",
   "metadata": {},
   "source": [
    "6. Determine the approximate space and time requirements for each of the algorithms devised in parts (2), (3), and (4)."
   ]
  },
  {
   "cell_type": "markdown",
   "id": "0faf41de-0f71-4d25-916e-9e5215567c9a",
   "metadata": {},
   "source": []
  }
 ],
 "metadata": {
  "kernelspec": {
   "display_name": "Python 3 (ipykernel)",
   "language": "python",
   "name": "python3"
  },
  "language_info": {
   "codemirror_mode": {
    "name": "ipython",
    "version": 3
   },
   "file_extension": ".py",
   "mimetype": "text/x-python",
   "name": "python",
   "nbconvert_exporter": "python",
   "pygments_lexer": "ipython3",
   "version": "3.11.3"
  }
 },
 "nbformat": 4,
 "nbformat_minor": 5
}
