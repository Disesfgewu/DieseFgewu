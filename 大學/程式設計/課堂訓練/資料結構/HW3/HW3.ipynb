{
 "cells": [
  {
   "cell_type": "markdown",
   "metadata": {},
   "source": [
    "## Homework 2 - Programming Problem (Data Structures, Fall 2023)\n",
    "\n",
    "### Due: Nov 7, 2023\n",
    "\n",
    "### SID:xxxxxxxxx\n",
    "### Name: xxxxxxxxxxxxxxxxxx "
   ]
  },
  {
   "cell_type": "markdown",
   "metadata": {},
   "source": [
    "#### Problem 6. (Programming Exercise)\n",
    "A ***Gray code*** is an encoding of numbers so that two contiguous numbers have a single digit differing by 1. The term Gray code is often used to refer to a \"reflected\" code, or more specifically still, the binary reflected Gray code. For example, one-bit Gray code is $G_1=[0, 1]$ and two-bit Gray code is $G_2=[00, 01, 11, 10]$. Three-bit Gray code is as follows:\n",
    "\n",
    "| Dec | Gray |\n",
    "|-----|------|\n",
    "| 0   | 000  |\n",
    "| 1   | 001  |\n",
    "| 2   | 011  |\n",
    "| 3   | 010  |\n",
    "| 4   | 110  |\n",
    "| 5   | 111  |\n",
    "| 6   | 101  |\n",
    "| 7   | 100  |\n",
    "\n",
    "This exercise asks you to list the $n$-bit Gray code using a ***stack***. Your Python program should read a value $n$ (the number of bits for the Gray code) and use a stack to help you to generate the $n$-bit Gray codes as well as list them in order. \n",
    "\n",
    "Please note that your program **must use a *stack*** as an auxiliary tool. When you submit your homework, you need to indicate where the stack is in your program and how it helps."
   ]
  },
  {
   "cell_type": "code",
   "execution_count": 1,
   "metadata": {},
   "outputs": [],
   "source": [
    "class Stack:\n"
   ]
  },
  {
   "cell_type": "code",
   "execution_count": 2,
   "metadata": {},
   "outputs": [
    {
     "name": "stdout",
     "output_type": "stream",
     "text": [
      "Please enter the number of bits for the Gray code:4\n"
     ]
    },
    {
     "data": {
      "text/plain": [
       "['0000',\n",
       " '0001',\n",
       " '0011',\n",
       " '0010',\n",
       " '0110',\n",
       " '0111',\n",
       " '0101',\n",
       " '0100',\n",
       " '1100',\n",
       " '1101',\n",
       " '1111',\n",
       " '1110',\n",
       " '1010',\n",
       " '1011',\n",
       " '1001',\n",
       " '1000']"
      ]
     },
     "execution_count": 2,
     "metadata": {},
     "output_type": "execute_result"
    }
   ],
   "source": [
    "def Gray_Code_Generator(n):\n",
    "\n",
    "Gray_Code_Generator(n)"
   ]
  },
  {
   "cell_type": "code",
   "execution_count": null,
   "metadata": {},
   "outputs": [],
   "source": []
  }
 ],
 "metadata": {
  "kernelspec": {
   "display_name": "Python 3 (ipykernel)",
   "language": "python",
   "name": "python3"
  },
  "language_info": {
   "codemirror_mode": {
    "name": "ipython",
    "version": 3
   },
   "file_extension": ".py",
   "mimetype": "text/x-python",
   "name": "python",
   "nbconvert_exporter": "python",
   "pygments_lexer": "ipython3",
   "version": "3.11.3"
  }
 },
 "nbformat": 4,
 "nbformat_minor": 2
}
