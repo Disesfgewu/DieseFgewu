{
 "cells": [
  {
   "cell_type": "markdown",
   "id": "420c0497",
   "metadata": {},
   "source": [
    "# 分類範例"
   ]
  },
  {
   "cell_type": "code",
   "execution_count": 1,
   "id": "e5511641",
   "metadata": {},
   "outputs": [],
   "source": [
    "import numpy as np\n",
    "filename='data_weight.txt'\n",
    "data_heigh=[]\n",
    "data_weight=[]\n",
    "label=[]\n",
    "with open(filename,'r', encoding=\"utf-8\") as f:\n",
    "    for line in f.readlines():\n",
    "        line = line.split('\\t')\n",
    "        data_heigh.append(float(line[0]))\n",
    "        data_weight.append(float(line[1]))\n",
    "        if '男' in line[2]:\n",
    "            label.append(1)\n",
    "        else:\n",
    "            label.append(0)\n",
    "data_heigh = np.array(data_heigh)\n",
    "data_weight = np.array(data_weight)\n",
    "label=np.array(label)\n"
   ]
  },
  {
   "cell_type": "markdown",
   "id": "65cc5af9",
   "metadata": {},
   "source": [
    "## 只用身高做平均數分類器"
   ]
  },
  {
   "cell_type": "code",
   "execution_count": 5,
   "id": "a229842b",
   "metadata": {},
   "outputs": [
    {
     "name": "stdout",
     "output_type": "stream",
     "text": [
      "(1, 474.4533333333334)\n"
     ]
    }
   ],
   "source": [
    "import numpy as np\n",
    "def classifier_mean(x_male, x_female, x_test):\n",
    "    d_male = np.abs(x_test-np.mean(x_male))\n",
    "    d_female = np.abs(x_test-np.mean(x_female))\n",
    "    if (d_female < d_male):\n",
    "        return 0, d_female\n",
    "    else:\n",
    "        return 1, d_male\n",
    "pos_female = np.where(label==0)[0]\n",
    "pos_male = np.where(label==1)[0]\n",
    "data_male = data_heigh[pos_male]\n",
    "data_female = data_heigh[pos_female]\n",
    "result = classifier_mean(data_male, data_female, 650)\n",
    "print(result)    \n",
    "    "
   ]
  },
  {
   "cell_type": "markdown",
   "id": "da568403",
   "metadata": {},
   "source": [
    "將模型寫成簡易模組化"
   ]
  },
  {
   "cell_type": "code",
   "execution_count": 7,
   "id": "e1d4c405",
   "metadata": {},
   "outputs": [],
   "source": [
    "class mean_classifier():\n",
    "    def ___init__(self):\n",
    "        self.th=[]\n",
    "    def fit(self, data_train, label_train):\n",
    "        mu=[]\n",
    "        for i in range(np.max(label_train)+1):\n",
    "            pos = np.where(label_train==i)[0]\n",
    "            mu.append(np.mean(data_train[pos]))\n",
    "        self.th = np.array(mu)\n",
    "    def predict(self,x_test):\n",
    "        d_value =[]\n",
    "        for mu in self.th:\n",
    "            d_value.append(np.abs(x_test-mu))\n",
    "        d_value = np.array(d_value)\n",
    "        return np.argmin(d_value), np.min(d_value)\n",
    "\n",
    "x = data_heigh\n",
    "y = label \n",
    "mc = mean_classifier()\n",
    "mc.fit(x, y)"
   ]
  },
  {
   "cell_type": "code",
   "execution_count": 8,
   "id": "f8f631f1",
   "metadata": {},
   "outputs": [
    {
     "name": "stdout",
     "output_type": "stream",
     "text": [
      "height:180, predict:1\n",
      "height:170, predict:1\n",
      "height:160, predict:0\n",
      "height:150, predict:0\n",
      "height:140, predict:0\n"
     ]
    }
   ],
   "source": [
    "for x_test in [180,170,160,150,140]:\n",
    "    result, value = mc.predict(x_test)\n",
    "    print('height:{}, predict:{}'.format(x_test, result))"
   ]
  },
  {
   "cell_type": "markdown",
   "id": "99582a83",
   "metadata": {},
   "source": [
    "## 多維度平均數分類器"
   ]
  },
  {
   "cell_type": "code",
   "execution_count": 11,
   "id": "bf43ac0d",
   "metadata": {},
   "outputs": [
    {
     "name": "stdout",
     "output_type": "stream",
     "text": [
      "['171.2\\t56.6\\t男' '158.5\\t50\\t女' '173\\t62\\t男' '178\\t66\\t男' '179\\t70\\t男'\n",
      " '158\\t54\\t女' '170\\t62\\t男' '180\\t30\\t男' '171\\t60\\t男' '174\\t54\\t男'\n",
      " '168\\t58\\t男' '182\\t103\\t男' '177\\t83\\t男' '170\\t65\\t男' '158.5\\t50\\t女'\n",
      " '158\\t54\\t女' '162\\t58\\t女' '167\\t60\\t女' '154\\t40\\t女' '160\\t55\\t女'\n",
      " '152\\t45\\t女' '180\\t90\\t男' '175\\t80\\t男' '185\\t101\\t男']\n",
      "(24, 2)\n"
     ]
    }
   ],
   "source": [
    "import numpy as np\n",
    "filename='data_weight.txt'\n",
    "myArr = np.loadtxt(filename, delimiter=',', encoding=\"utf-8\",dtype='str')\n",
    "print(myArr)\n",
    "\n",
    "x,y=[],[]\n",
    "with open(filename,'r', encoding=\"utf-8\") as f:\n",
    "    for line in f.readlines():\n",
    "        line = line.split('\\t')\n",
    "        x.append([float(line[0]), float(line[1])])\n",
    "        if '男' in line[2]:\n",
    "            y.append(1)\n",
    "        else:\n",
    "            y.append(0)\n",
    "x = np.array(x)\n",
    "y = np.array(label)\n",
    "print(x.shape)"
   ]
  },
  {
   "cell_type": "code",
   "execution_count": 15,
   "id": "cd6d8519",
   "metadata": {},
   "outputs": [
    {
     "name": "stdout",
     "output_type": "stream",
     "text": [
      "[169.21666667  62.775     ]\n"
     ]
    },
    {
     "data": {
      "text/plain": [
       "81.90711805555554"
      ]
     },
     "execution_count": 15,
     "metadata": {},
     "output_type": "execute_result"
    }
   ],
   "source": [
    "mu=np.mean(x,0)\n",
    "print(mu)\n",
    "x_test=[170,50]\n",
    "(np.dot((x_test-mu),(x_test-mu).transpose()))*0.5"
   ]
  },
  {
   "cell_type": "code",
   "execution_count": 16,
   "id": "513a6fa6",
   "metadata": {},
   "outputs": [],
   "source": [
    "class mean_classifier():\n",
    "    def ___init__(self):\n",
    "        self.th=[]\n",
    "    def fit(self, data_train, label_train):\n",
    "        mu=[]\n",
    "        for i in range(np.max(label_train)+1):\n",
    "            pos = np.where(label_train==i)[0]\n",
    "            mu.append(np.mean(data_train[pos,:],0))\n",
    "        self.th = mu\n",
    "    def predict(self,x_test):\n",
    "        d_value =[]\n",
    "        for mu in self.th:\n",
    "            d_value.append((np.dot((x_test-mu),(x_test-mu).transpose()))*0.5)\n",
    "        d_value = np.array(d_value)\n",
    "        return np.argmin(d_value), np.min(d_value)\n",
    "\n",
    "mc = mean_classifier()\n",
    "mc.fit(x, y)"
   ]
  },
  {
   "cell_type": "code",
   "execution_count": 17,
   "id": "d6f45918",
   "metadata": {},
   "outputs": [
    {
     "name": "stdout",
     "output_type": "stream",
     "text": [
      "data:[180, 80], predict:1\n",
      "data:[170, 70], predict:1\n",
      "data:[160, 60], predict:0\n",
      "data:[150, 50], predict:0\n"
     ]
    }
   ],
   "source": [
    "for x_test in [[180,80], [170,70], [160,60], [150,50]]:\n",
    "    result, value = mc.predict(x_test)\n",
    "    print('data:{}, predict:{}'.format(x_test, result))"
   ]
  },
  {
   "cell_type": "code",
   "execution_count": 18,
   "id": "dea4e12c",
   "metadata": {},
   "outputs": [
    {
     "data": {
      "image/png": "[encoded data removed]",
      "text/plain": [
       "<Figure size 640x480 with 1 Axes>"
      ]
     },
     "metadata": {},
     "output_type": "display_data"
    }
   ],
   "source": [
    "import matplotlib.pyplot as plt\n",
    "pos_male=np.where(y==1)[0]\n",
    "pos_female=np.where(y==0)[0]\n",
    "\n",
    "plt.plot(x[pos_male,0],x[pos_male,1],'b*')\n",
    "plt.plot(x[pos_female,0],x[pos_female,1],'r*')\n",
    "plt.plot(np.mean(x[pos_male,0]),np.mean(x[pos_male,1]),'b+', markersize=10)\n",
    "plt.plot(np.mean(x[pos_female,0]),np.mean(x[pos_female,1]),'r+', markersize=10)\n",
    "plt.plot([np.mean(x[pos_male,0]), np.mean(x[pos_female,0])],[np.mean(x[pos_male,1]), np.mean(x[pos_female,1])] ,'k-')\n",
    "plt.plot((np.mean(x[pos_male,0])+np.mean(x[pos_female,0]))/2,(np.mean(x[pos_male,1])+np.mean(x[pos_female,1]))/2 ,'m^', markersize=10)\n",
    "\n",
    "\n",
    "plt.show()"
   ]
  },
  {
   "cell_type": "code",
   "execution_count": 19,
   "id": "9aaf4932",
   "metadata": {},
   "outputs": [
    {
     "name": "stdout",
     "output_type": "stream",
     "text": [
      "data:[160, 100], predict:1\n"
     ]
    }
   ],
   "source": [
    "x_test = [160,100]\n",
    "result, value = mc.predict(x_test)\n",
    "print('data:{}, predict:{}'.format(x_test, result))"
   ]
  },
  {
   "cell_type": "markdown",
   "id": "a86e8da4",
   "metadata": {},
   "source": [
    "# sklearn implementation"
   ]
  },
  {
   "cell_type": "code",
   "execution_count": 22,
   "id": "e8afa7c0",
   "metadata": {},
   "outputs": [
    {
     "data": {
      "text/plain": [
       "QuadraticDiscriminantAnalysis()"
      ]
     },
     "execution_count": 22,
     "metadata": {},
     "output_type": "execute_result"
    }
   ],
   "source": [
    "from sklearn.discriminant_analysis import QuadraticDiscriminantAnalysis\n",
    "from sklearn.discriminant_analysis import LinearDiscriminantAnalysis\n",
    "    \n",
    "clf_LDA = LinearDiscriminantAnalysis()\n",
    "clf_LDA.fit(x, y)\n",
    "\n",
    "clf_QDA = QuadraticDiscriminantAnalysis()\n",
    "clf_QDA.fit(x, y)"
   ]
  },
  {
   "cell_type": "code",
   "execution_count": 23,
   "id": "813fdb30",
   "metadata": {},
   "outputs": [
    {
     "name": "stdout",
     "output_type": "stream",
     "text": [
      "LDA : data:[[150, 50]], predict:[0]\n",
      "QDA : data:[[150, 50]], predict:[0]\n"
     ]
    }
   ],
   "source": [
    "x_test = [[150,50]]\n",
    "result = clf_LDA.predict(x_test)\n",
    "print('LDA : data:{}, predict:{}'.format(x_test, result))\n",
    "result = clf_QDA.predict(x_test)\n",
    "print('QDA : data:{}, predict:{}'.format(x_test, result))"
   ]
  },
  {
   "cell_type": "code",
   "execution_count": null,
   "id": "87702a3f",
   "metadata": {},
   "outputs": [],
   "source": []
  }
 ],
 "metadata": {
  "kernelspec": {
   "display_name": "Python 3 (ipykernel)",
   "language": "python",
   "name": "python3"
  },
  "language_info": {
   "codemirror_mode": {
    "name": "ipython",
    "version": 3
   },
   "file_extension": ".py",
   "mimetype": "text/x-python",
   "name": "python",
   "nbconvert_exporter": "python",
   "pygments_lexer": "ipython3",
   "version": "3.9.13"
  }
 },
 "nbformat": 4,
 "nbformat_minor": 5
}
