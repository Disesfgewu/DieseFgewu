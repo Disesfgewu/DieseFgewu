{
 "cells": [
  {
   "cell_type": "markdown",
   "id": "c0082e48",
   "metadata": {},
   "source": [
    "# IRIS example by LDA, QDA, MLP"
   ]
  },
  {
   "cell_type": "code",
   "execution_count": 1,
   "id": "3e012ec5",
   "metadata": {},
   "outputs": [],
   "source": [
    "\"\"\"\n",
    "@author: tommy huang\n",
    "\"\"\"\n",
    "import numpy as np\n",
    "import matplotlib.pyplot as plt\n",
    "from sklearn.model_selection import train_test_split\n",
    "from sklearn.discriminant_analysis import LinearDiscriminantAnalysis\n",
    "from sklearn.discriminant_analysis import QuadraticDiscriminantAnalysis\n",
    "from sklearn.metrics import confusion_matrix\n",
    "from sklearn.neural_network import MLPClassifier\n",
    "\n",
    "np.random.seed(2023)\n",
    "\n",
    "x = np.load('iris_x.npy')\n",
    "y = np.load('iris_y.npy')\n"
   ]
  },
  {
   "cell_type": "code",
   "execution_count": 2,
   "id": "9cdf1467",
   "metadata": {},
   "outputs": [
    {
     "data": {
      "text/plain": [
       "(150, 4)"
      ]
     },
     "execution_count": 2,
     "metadata": {},
     "output_type": "execute_result"
    }
   ],
   "source": [
    "x.shape"
   ]
  },
  {
   "cell_type": "code",
   "execution_count": null,
   "id": "dbcea0d8",
   "metadata": {},
   "outputs": [],
   "source": []
  },
  {
   "cell_type": "code",
   "execution_count": 5,
   "id": "c8e8a2e8",
   "metadata": {},
   "outputs": [
    {
     "name": "stdout",
     "output_type": "stream",
     "text": [
      "confusion_matrix (LDA):\n",
      "[[12  0  0]\n",
      " [ 0 11  0]\n",
      " [ 0  0  7]]\n",
      "confusion_matrix (LDA,acc):1.0\n",
      "confusion_matrix (QDA):\n",
      "[[12  0  0]\n",
      " [ 0 11  0]\n",
      " [ 0  0  7]]\n",
      "confusion_matrix (QDA,acc):1.0\n",
      "confusion_matrix (MLP):\n",
      "[[12  0  0]\n",
      " [ 0 11  0]\n",
      " [ 0  0  7]]\n",
      "confusion_matrix (MLP,acc):1.0\n"
     ]
    }
   ],
   "source": [
    "# -*- coding: utf-8 -*-\n",
    "\"\"\"\n",
    "@author: tommy huang\n",
    "\"\"\"\n",
    "import numpy as np\n",
    "import matplotlib.pyplot as plt\n",
    "from sklearn.model_selection import train_test_split\n",
    "from sklearn.discriminant_analysis import LinearDiscriminantAnalysis\n",
    "from sklearn.discriminant_analysis import QuadraticDiscriminantAnalysis\n",
    "from sklearn.metrics import confusion_matrix\n",
    "from sklearn.neural_network import MLPClassifier\n",
    "\n",
    "np.random.seed(2023)\n",
    "\n",
    "x = np.load('iris_x.npy')\n",
    "y = np.load('iris_y.npy')\n",
    "\n",
    "# sklearn module\n",
    "x_train, x_test, y_train, y_test = train_test_split(x, y, test_size=0.2, random_state=2023)\n",
    "\n",
    "\n",
    "# Quadratic Discriminant Analysis\n",
    "lda = LinearDiscriminantAnalysis(store_covariance=True)\n",
    "lda = lda.fit(x_train, y_train)\n",
    "y_pred = lda.predict(x_test)\n",
    "cm = confusion_matrix(y_test, y_pred)\n",
    "acc = np.diag(cm).sum()/cm.sum()\n",
    "print('confusion_matrix (LDA):\\n{}'.format(cm))\n",
    "print('confusion_matrix (LDA,acc):{}'.format(acc))\n",
    "\n",
    "\n",
    "qda = QuadraticDiscriminantAnalysis(store_covariance=True)\n",
    "qda = qda.fit(x_train, y_train)\n",
    "y_pred = qda.predict(x_test)\n",
    "cm = confusion_matrix(y_test, y_pred)\n",
    "acc = np.diag(cm).sum()/cm.sum()\n",
    "print('confusion_matrix (QDA):\\n{}'.format(cm))\n",
    "print('confusion_matrix (QDA,acc):{}'.format(acc))\n",
    "\n",
    "\n",
    "clf_mlp = MLPClassifier(solver='lbfgs',\n",
    "                        alpha=1e-5,\n",
    "                        hidden_layer_sizes=(100,100),\n",
    "                        max_iter=100,\n",
    "                        random_state=1)\n",
    "\n",
    "\n",
    "\n",
    "clf_mlp.fit(x_train, y_train)\n",
    "y_pred = clf_mlp.predict(x_test)\n",
    "cm = confusion_matrix(y_test, y_pred)\n",
    "acc = np.diag(cm).sum()/cm.sum()\n",
    "print('confusion_matrix (MLP):\\n{}'.format(cm))\n",
    "print('confusion_matrix (MLP,acc):{}'.format(acc))\n"
   ]
  },
  {
   "cell_type": "code",
   "execution_count": null,
   "id": "ddff40fe",
   "metadata": {},
   "outputs": [],
   "source": []
  }
 ],
 "metadata": {
  "kernelspec": {
   "display_name": "Python 3 (ipykernel)",
   "language": "python",
   "name": "python3"
  },
  "language_info": {
   "codemirror_mode": {
    "name": "ipython",
    "version": 3
   },
   "file_extension": ".py",
   "mimetype": "text/x-python",
   "name": "python",
   "nbconvert_exporter": "python",
   "pygments_lexer": "ipython3",
   "version": "3.9.13"
  }
 },
 "nbformat": 4,
 "nbformat_minor": 5
}
