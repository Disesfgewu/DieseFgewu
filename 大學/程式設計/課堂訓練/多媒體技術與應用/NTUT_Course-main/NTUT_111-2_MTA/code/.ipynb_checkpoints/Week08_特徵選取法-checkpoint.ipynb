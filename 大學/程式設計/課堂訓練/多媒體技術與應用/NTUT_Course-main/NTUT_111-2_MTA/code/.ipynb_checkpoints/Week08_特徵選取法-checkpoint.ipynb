{
 "cells": [
  {
   "cell_type": "markdown",
   "id": "c8fed15c",
   "metadata": {},
   "source": [
    "# 特徵選取法"
   ]
  },
  {
   "cell_type": "code",
   "execution_count": 1,
   "id": "386b5bb6",
   "metadata": {},
   "outputs": [],
   "source": [
    "import pandas as pd\n",
    "import numpy as np\n",
    "from sklearn.preprocessing import LabelEncoder \n",
    "from sklearn.linear_model import LogisticRegression\n",
    "\n",
    "def load_classification_example():\n",
    "    filename='.\\data_weight_multlfeatutes.xlsx'\n",
    "    df = pd.read_excel(filename)\n",
    "    labelencoder = LabelEncoder()\n",
    "    df[\"性別\"] = labelencoder.fit_transform(df[\"性別\"]) # 將\"性別\"裡的字串自動轉換成數值\n",
    "    df[\"手機品牌\"] = labelencoder.fit_transform(df[\"手機品牌\"]) # 將\"手機品牌\"裡的字串自動轉換成數值\n",
    "    X = np.array(df[['身高', '體重', '手機品牌','體脂肪']])\n",
    "    Y = np.array(df['性別'])\n",
    "    return X, Y"
   ]
  },
  {
   "cell_type": "markdown",
   "id": "c1320010",
   "metadata": {},
   "source": [
    "### 刪除變異量最小的特徵資料"
   ]
  },
  {
   "cell_type": "markdown",
   "id": "618941ec",
   "metadata": {},
   "source": [
    "我們故意加一行特徵值都是0的資料進去X"
   ]
  },
  {
   "cell_type": "code",
   "execution_count": 2,
   "id": "c82d58df",
   "metadata": {},
   "outputs": [
    {
     "name": "stdout",
     "output_type": "stream",
     "text": [
      "[[171.2  75.    0.   25.    0. ]\n",
      " [158.5  50.    0.   28.    0. ]\n",
      " [173.   72.    1.   15.    0. ]\n",
      " [178.   71.    1.   19.    0. ]\n",
      " [179.   75.    2.   20.    0. ]\n",
      " [158.   54.    0.   24.    0. ]\n",
      " [170.   67.    1.   20.    0. ]\n",
      " [180.   78.    1.   12.    0. ]\n",
      " [171.   65.    0.   10.    0. ]\n",
      " [174.   70.    0.   17.    0. ]\n",
      " [168.   68.    2.   21.    0. ]\n",
      " [182.   75.    1.    8.    0. ]\n",
      " [177.   78.    1.   10.    0. ]\n",
      " [170.   70.    0.   19.    0. ]\n",
      " [158.5  50.    0.   24.    0. ]\n",
      " [158.   54.    0.   20.    0. ]\n",
      " [162.   58.    2.   25.    0. ]\n",
      " [160.   60.    2.   22.    0. ]\n",
      " [154.   45.    2.   19.    0. ]\n",
      " [160.   55.    0.   21.    0. ]\n",
      " [152.   50.    0.   22.    0. ]\n",
      " [180.   75.    2.   19.    0. ]\n",
      " [175.   80.    2.   23.    0. ]\n",
      " [179.   80.    0.   21.    0. ]]\n"
     ]
    }
   ],
   "source": [
    "X, Y = load_classification_example()\n",
    "n,dim=X.shape\n",
    "X = np.concatenate((X, np.zeros((n,1))),1)\n",
    "print(X)"
   ]
  },
  {
   "cell_type": "markdown",
   "id": "96595cb1",
   "metadata": {},
   "source": [
    "**變異量的閾值我們採用伯努利分布(Bernoulli Distribution)的變異數**<br>\n",
    "**Recall: 伯努利分布** ($X \\sim Bernuulli(p)$)<br>\n",
    "$$\n",
    "f(x)=p^x(1-p)^{1-x}, x=0,1\n",
    "$$\n",
    "<br>\n",
    "$$\n",
    "E(X)= \\sum_{x=0,1} xf(x) = 0 \\times p^0(1-p)^{1} + 1 \\times p^1(1-p)^{0} = 0 + p = p <br>\n",
    "$$\n",
    "<br>\n",
    "$$\n",
    "Var(X)=\\sum_{x=0,1}(x-E(X))^2 f(x) = (0-p)^2\\times p^0(1-p)^{1} + (1-p)^2\\times p^1(1-p)^{0} = p^2\\times(1-p)^{1} + (1-p)^2\\times p^1 = p(1-p)\n",
    "$$\n",
    "<br>\n",
    "所以我們假設每個變數被選出來的情形和伯努利分布一樣(成功1和失敗0)<br>\n",
    "假設被選中的機率是0.9 <br>\n",
    "所以閾值設定在$0.9\\times(1-0.9)$"
   ]
  },
  {
   "cell_type": "code",
   "execution_count": 3,
   "id": "31e79f86",
   "metadata": {},
   "outputs": [
    {
     "name": "stdout",
     "output_type": "stream",
     "text": [
      "[[171.2  75.    0.   25. ]\n",
      " [158.5  50.    0.   28. ]\n",
      " [173.   72.    1.   15. ]\n",
      " [178.   71.    1.   19. ]\n",
      " [179.   75.    2.   20. ]\n",
      " [158.   54.    0.   24. ]\n",
      " [170.   67.    1.   20. ]\n",
      " [180.   78.    1.   12. ]\n",
      " [171.   65.    0.   10. ]\n",
      " [174.   70.    0.   17. ]\n",
      " [168.   68.    2.   21. ]\n",
      " [182.   75.    1.    8. ]\n",
      " [177.   78.    1.   10. ]\n",
      " [170.   70.    0.   19. ]\n",
      " [158.5  50.    0.   24. ]\n",
      " [158.   54.    0.   20. ]\n",
      " [162.   58.    2.   25. ]\n",
      " [160.   60.    2.   22. ]\n",
      " [154.   45.    2.   19. ]\n",
      " [160.   55.    0.   21. ]\n",
      " [152.   50.    0.   22. ]\n",
      " [180.   75.    2.   19. ]\n",
      " [175.   80.    2.   23. ]\n",
      " [179.   80.    0.   21. ]]\n"
     ]
    }
   ],
   "source": [
    "from sklearn.feature_selection import VarianceThreshold\n",
    "X, Y = load_classification_example()\n",
    "n,dim=X.shape\n",
    "X = np.concatenate((X, np.zeros((n,1))),1)\n",
    "\n",
    "th = 0.9 * (1-0.9)\n",
    "sel = VarianceThreshold(threshold=th)\n",
    "X_ = sel.fit_transform(X)\n",
    "print(X_)\n"
   ]
  },
  {
   "cell_type": "markdown",
   "id": "50d826b7",
   "metadata": {},
   "source": [
    "## 單變量特徵選擇\n",
    "- 「分類」特徵選取: 我們介紹了利用卡方檢定(Chi-square)來進行分類務的特徵選取<br>\n",
    "\n",
    "在scikit-learn的 feature_selection模組依據「迴歸」和「分類」任務提供程式碼:\n",
    "- 「迴歸」特徵選取: 相關mutual_info_regression係數(𝑟)(```r_regression```)、 F-statistic(```f_regression```)、Mutual information(``````) <br>\n",
    "- 「分類」特徵選取: 卡方統計量(```chi2```)、ANOVA F-value(```f_classif```)、Mutual information(```mutual_info_classif```)<br>\n",
    "\n",
    "\n",
    "\n",
    "\n"
   ]
  },
  {
   "cell_type": "markdown",
   "id": "be8984b9",
   "metadata": {},
   "source": [
    "### 性別分類\n",
    "```\n",
    "X = np.array(df[['身高', '體重', '手機品牌','體脂肪']])\n",
    "Y = np.array(df['性別'])\n",
    "```"
   ]
  },
  {
   "cell_type": "code",
   "execution_count": 6,
   "id": "1b691444",
   "metadata": {},
   "outputs": [
    {
     "name": "stdout",
     "output_type": "stream",
     "text": [
      "------\n",
      "選3個特徵\n",
      "chi2:[ 9.93211073 35.59318519  0.48        8.83678161]\n",
      "selecation features:['x0' 'x1' 'x3']\n",
      "ANOVA F-value:[103.96594136 106.65274191   0.51968504   8.73095189]\n",
      "selecation features:['x0' 'x1' 'x3']\n",
      "Mutual information:[0.68286863 0.66897974 0.04695142 0.11600355]\n",
      "selecation features:['x0' 'x1' 'x3']\n",
      "------\n",
      "選2個特徵\n",
      "chi2:[ 9.93211073 35.59318519  0.48        8.83678161]\n",
      "selecation features:['x0' 'x1']\n",
      "ANOVA F-value:[103.96594136 106.65274191   0.51968504   8.73095189]\n",
      "selecation features:['x0' 'x1']\n",
      "Mutual information:[0.68286863 0.65509085 0.01203842 0.08625818]\n",
      "selecation features:['x0' 'x1']\n",
      "------\n",
      "選1個特徵\n",
      "chi2:[ 9.93211073 35.59318519  0.48        8.83678161]\n",
      "selecation features:['x1']\n",
      "ANOVA F-value:[103.96594136 106.65274191   0.51968504   8.73095189]\n",
      "selecation features:['x1']\n",
      "Mutual information:[0.68286863 0.66897974 0.         0.12503133]\n",
      "selecation features:['x0']\n"
     ]
    }
   ],
   "source": [
    "from sklearn.feature_selection import SelectKBest\n",
    "from sklearn.feature_selection import chi2, f_classif, mutual_info_classif\n",
    "\n",
    "X, Y = load_classification_example()\n",
    "\n",
    "for sele_k in [3,2,1]:\n",
    "    print('------')\n",
    "    print('選{}個特徵'.format(sele_k))\n",
    "\n",
    "    p  = SelectKBest(chi2, k=sele_k).fit(X, Y)\n",
    "    print('chi2:{}'.format(p.scores_))\n",
    "    print('selecation features:{}'.format(p.get_feature_names_out()))\n",
    "\n",
    "    p = SelectKBest(f_classif, k=sele_k).fit(X, Y)\n",
    "    print('ANOVA F-value:{}'.format(p.scores_))\n",
    "    print('selecation features:{}'.format(p.get_feature_names_out()))\n",
    "\n",
    "    p = SelectKBest(mutual_info_classif, k=sele_k).fit(X, Y)\n",
    "    print('Mutual information:{}'.format(p.scores_))\n",
    "    print('selecation features:{}'.format(p.get_feature_names_out()))"
   ]
  },
  {
   "cell_type": "code",
   "execution_count": 7,
   "id": "378518ea",
   "metadata": {},
   "outputs": [
    {
     "name": "stdout",
     "output_type": "stream",
     "text": [
      "All features: accuracy :1.0\n",
      "------\n",
      "選3個特徵\n",
      "feature selection (chi2): accuracy :1.0\n",
      "feature selection (ANOVA F-value): accuracy :1.0\n",
      "feature selection (Mutual information): accuracy :1.0\n",
      "------\n",
      "選2個特徵\n",
      "feature selection (chi2): accuracy :1.0\n",
      "feature selection (ANOVA F-value): accuracy :1.0\n",
      "feature selection (Mutual information): accuracy :1.0\n",
      "------\n",
      "選1個特徵\n",
      "feature selection (chi2): accuracy :1.0\n",
      "feature selection (ANOVA F-value): accuracy :1.0\n",
      "feature selection (Mutual information): accuracy :1.0\n"
     ]
    }
   ],
   "source": [
    "from sklearn.linear_model import LogisticRegression\n",
    "from sklearn.feature_selection import SelectKBest\n",
    "from sklearn.feature_selection import r_regression, f_regression, mutual_info_regression\n",
    "\n",
    "X, Y = load_classification_example()\n",
    "\n",
    "clf = LogisticRegression()\n",
    "clf.fit(X,Y)\n",
    "print('All features: accuracy :{}'.format(clf.score(X, Y)))\n",
    "\n",
    "for sele_k in [3,2,1]:\n",
    "    print('------')\n",
    "    print('選{}個特徵'.format(sele_k))\n",
    "    p  = SelectKBest(r_regression, k=sele_k).fit(X, Y)\n",
    "    X_ = p.transform(X)\n",
    "    clf = LogisticRegression()\n",
    "    clf.fit(X_,Y)\n",
    "    print('feature selection (chi2): accuracy :{}'.format(clf.score(X_, Y)))\n",
    "\n",
    "    p = SelectKBest(f_regression, k=sele_k).fit(X, Y)\n",
    "    X_ = p.transform(X)\n",
    "    clf = LogisticRegression()\n",
    "    clf.fit(X_,Y)\n",
    "    print('feature selection (ANOVA F-value): accuracy :{}'.format(clf.score(X_, Y)))\n",
    "\n",
    "    p = SelectKBest(mutual_info_regression, k=sele_k).fit(X, Y)\n",
    "    X_ = p.transform(X)\n",
    "    clf = LogisticRegression()\n",
    "    clf.fit(X_,Y)\n",
    "    print('feature selection (Mutual information): accuracy :{}'.format(clf.score(X_, Y)))\n"
   ]
  },
  {
   "cell_type": "markdown",
   "id": "abb2990f",
   "metadata": {},
   "source": [
    "## 順序特徵選擇(Sequential Feature Selection)\n",
    "sklearn目前只提供\n",
    "「向前順序特徵選取法(forward sequential feature selection)」\n",
    "和\n",
    "「向後順序特徵選取法(backward sequential feature selection)」"
   ]
  },
  {
   "cell_type": "markdown",
   "id": "feda6526",
   "metadata": {},
   "source": [
    "### 性別分類\n",
    "```\n",
    "X = np.array(df[['身高', '體重', '手機品牌','體脂肪']])\n",
    "Y = np.array(df['性別'])\n",
    "```"
   ]
  },
  {
   "cell_type": "code",
   "execution_count": 10,
   "id": "bb746e86",
   "metadata": {},
   "outputs": [
    {
     "name": "stdout",
     "output_type": "stream",
     "text": [
      "基於LogisticRegression\n",
      "------\n",
      "選3個特徵\n",
      "向前順序特徵選取法:['身高' '體重' '手機品牌']\n",
      "向後順序特徵選取法:['體重' '手機品牌' '體脂肪']\n",
      "------\n",
      "選2個特徵\n",
      "向前順序特徵選取法:['身高' '體重']\n",
      "向後順序特徵選取法:['體重' '體脂肪']\n",
      "------\n",
      "選1個特徵\n",
      "向前順序特徵選取法:['身高']\n",
      "向後順序特徵選取法:['體重']\n"
     ]
    }
   ],
   "source": [
    "from sklearn.linear_model import LogisticRegression\n",
    "from sklearn.feature_selection import SequentialFeatureSelector\n",
    "\n",
    "X, Y = load_classification_example()\n",
    "feature_names = np.array(['身高', '體重', '手機品牌','體脂肪'])\n",
    "\n",
    "clf = LogisticRegression()\n",
    "print('基於LogisticRegression')\n",
    "for sele_k in [3,2,1]:\n",
    "    print('------')\n",
    "    print('選{}個特徵'.format(sele_k))\n",
    "    \n",
    "    sfs_forward = SequentialFeatureSelector(\n",
    "        clf, \n",
    "        n_features_to_select=sele_k, \n",
    "        direction=\"forward\"\n",
    "        ).fit(X, Y)\n",
    "    print(\"向前順序特徵選取法:{}\".format(feature_names[sfs_forward.get_support()]))\n",
    "    \n",
    "    sfs_backward = SequentialFeatureSelector(\n",
    "        clf, \n",
    "        n_features_to_select=sele_k, \n",
    "        direction=\"backward\"\n",
    "        ).fit(X, Y)\n",
    "    print(\"向後順序特徵選取法:{}\".format(feature_names[sfs_backward.get_support()]))\n",
    "\n"
   ]
  },
  {
   "cell_type": "code",
   "execution_count": 11,
   "id": "5550e37a",
   "metadata": {},
   "outputs": [
    {
     "name": "stdout",
     "output_type": "stream",
     "text": [
      "基於QuadraticDiscriminantAnalysis\n",
      "------\n",
      "選3個特徵\n",
      "向前順序特徵選取法:['身高' '體重' '體脂肪']\n",
      "向後順序特徵選取法:['身高' '手機品牌' '體脂肪']\n",
      "------\n",
      "選2個特徵\n",
      "向前順序特徵選取法:['身高' '體重']\n",
      "向後順序特徵選取法:['身高' '體脂肪']\n",
      "------\n",
      "選1個特徵\n",
      "向前順序特徵選取法:['身高']\n",
      "向後順序特徵選取法:['身高']\n"
     ]
    }
   ],
   "source": [
    "from sklearn.discriminant_analysis  import QuadraticDiscriminantAnalysis\n",
    "from sklearn.feature_selection import SequentialFeatureSelector\n",
    "X, Y = load_classification_example()\n",
    "feature_names = np.array(['身高', '體重', '手機品牌','體脂肪'])\n",
    "clf = QuadraticDiscriminantAnalysis()\n",
    "print('基於QuadraticDiscriminantAnalysis')\n",
    "for sele_k in [3,2,1]:\n",
    "    print('------')\n",
    "    print('選{}個特徵'.format(sele_k))\n",
    "    \n",
    "    sfs_forward = SequentialFeatureSelector(\n",
    "        clf, \n",
    "        n_features_to_select=sele_k, \n",
    "        direction=\"forward\"\n",
    "        ).fit(X, Y)\n",
    "    print(\"向前順序特徵選取法:{}\".format(feature_names[sfs_forward.get_support()]))\n",
    "    \n",
    "    sfs_backward = SequentialFeatureSelector(\n",
    "        clf, \n",
    "        n_features_to_select=sele_k, \n",
    "        direction=\"backward\"\n",
    "        ).fit(X, Y)\n",
    "    print(\"向後順序特徵選取法:{}\".format(feature_names[sfs_backward.get_support()]))\n"
   ]
  },
  {
   "cell_type": "markdown",
   "id": "b092eeff",
   "metadata": {},
   "source": [
    "假設我們基於<br>\n",
    "**Logistic Regression 和 向後順序特徵選取法('選三個特徵') 後進行分類**"
   ]
  },
  {
   "cell_type": "code",
   "execution_count": 12,
   "id": "f76a8351",
   "metadata": {},
   "outputs": [
    {
     "name": "stdout",
     "output_type": "stream",
     "text": [
      "LogisticRegression + feature selection (向後順序特徵選取法 3 features): accuracy :1.0\n"
     ]
    }
   ],
   "source": [
    "from sklearn.linear_model import LogisticRegression\n",
    "from sklearn.feature_selection import SequentialFeatureSelector\n",
    "\n",
    "X, Y = load_classification_example()\n",
    "feature_names = np.array(['身高', '體重', '手機品牌','體脂肪'])\n",
    "\n",
    "clf = LogisticRegression()\n",
    "sfs_backward = SequentialFeatureSelector(\n",
    "        clf, \n",
    "        n_features_to_select=3, \n",
    "        direction=\"backward\"\n",
    "        ).fit(X, Y)\n",
    "X_ = sfs_backward.transform(X)\n",
    "\n",
    "clf.fit(X_,Y)\n",
    "print('LogisticRegression + feature selection (向後順序特徵選取法 3 features): accuracy :{}'.format(clf.score(X_, Y)))"
   ]
  },
  {
   "cell_type": "markdown",
   "id": "36fac0a3",
   "metadata": {},
   "source": [
    "# 利用sklearn內建的資料庫來測試速度\n",
    "digits在Sklean是一個1797張圖片的數字資料庫。<br>\n",
    "我們將利用它來測試不同特徵選取的速度。<br>\n",
    "\n",
    "我們設定選擇 10,20,30,40,50,60 個特徵"
   ]
  },
  {
   "cell_type": "code",
   "execution_count": 13,
   "id": "429c1c0f",
   "metadata": {},
   "outputs": [
    {
     "name": "stdout",
     "output_type": "stream",
     "text": [
      "(1797, 64)\n"
     ]
    }
   ],
   "source": [
    "from sklearn.datasets import load_digits\n",
    "digits = load_digits()\n",
    "X = digits.data\n",
    "Y = digits.target\n",
    "print(X.shape)"
   ]
  },
  {
   "cell_type": "markdown",
   "id": "3e9ff4d1",
   "metadata": {},
   "source": [
    "## 單變量特徵選擇(chi2) + QuadraticDiscriminantAnalysis"
   ]
  },
  {
   "cell_type": "code",
   "execution_count": 14,
   "id": "e0694812",
   "metadata": {},
   "outputs": [
    {
     "name": "stdout",
     "output_type": "stream",
     "text": [
      "Time for all features and training model: 0.011510372161865234s\n",
      "accuracy :0.9321090706733445\n",
      "------\n",
      "選10個特徵\n",
      "Time for selecting features and training model: 0.005000s\n",
      "feature selection (chi2): accuracy :0.100723\n",
      "------\n",
      "選20個特徵\n",
      "Time for selecting features and training model: 0.005004s\n",
      "feature selection (chi2): accuracy :0.100723\n",
      "------\n",
      "選30個特徵\n",
      "Time for selecting features and training model: 0.007004s\n",
      "feature selection (chi2): accuracy :0.915415\n",
      "------\n",
      "選40個特徵\n",
      "Time for selecting features and training model: 0.007509s\n",
      "feature selection (chi2): accuracy :0.932666\n",
      "------\n",
      "選50個特徵\n",
      "Time for selecting features and training model: 0.010581s\n",
      "feature selection (chi2): accuracy :0.953255\n",
      "------\n",
      "選60個特徵\n",
      "Time for selecting features and training model: 0.010515s\n",
      "feature selection (chi2): accuracy :0.934335\n"
     ]
    }
   ],
   "source": [
    "from sklearn.discriminant_analysis  import QuadraticDiscriminantAnalysis\n",
    "from sklearn.feature_selection import SelectKBest\n",
    "from sklearn.feature_selection import chi2, f_classif, mutual_info_classif\n",
    "from sklearn.datasets import load_digits\n",
    "import matplotlib.pyplot as plt\n",
    "import time \n",
    "import warnings\n",
    "warnings.filterwarnings(\"ignore\")\n",
    "\n",
    "digits = load_digits()\n",
    "X = digits.data\n",
    "Y = digits.target\n",
    "\n",
    "st = time.time()\n",
    "clf = QuadraticDiscriminantAnalysis()\n",
    "clf.fit(X,Y)\n",
    "print('Time for all features and training model: {}s'.format(time.time()-st))\n",
    "print('accuracy :{}'.format(clf.score(X, Y)))\n",
    "acc_chi2 = []\n",
    "for sele_k in [10,20,30,40,50,60]:\n",
    "    print('------')\n",
    "    print('選{}個特徵'.format(sele_k))\n",
    "    st = time.time()\n",
    "    p  = SelectKBest(chi2, k=sele_k).fit(X, Y)\n",
    "    X_ = p.transform(X)\n",
    "    clf = QuadraticDiscriminantAnalysis()\n",
    "    clf.fit(X_,Y)\n",
    "    print('Time for selecting features and training model: {:5f}s'.format(time.time()-st))\n",
    "    print('feature selection (chi2): accuracy :{:5f}'.format(clf.score(X_, Y)))\n",
    "    acc_chi2.append(clf.score(X_, Y))"
   ]
  },
  {
   "cell_type": "markdown",
   "id": "1249f02a",
   "metadata": {},
   "source": [
    "## 順序特徵選擇 + QuadraticDiscriminantAnalysis"
   ]
  },
  {
   "cell_type": "code",
   "execution_count": 15,
   "id": "d9544b50",
   "metadata": {},
   "outputs": [
    {
     "name": "stdout",
     "output_type": "stream",
     "text": [
      "Time for all features and training model: 0.011515s\n",
      "accuracy :0.932109\n",
      "------\n",
      "選10個特徵\n",
      "Time for 向前順序特徵選取法 and training model: 9.447180s\n",
      "accuracy :0.907067\n",
      "Time for 向後順序特徵選取法 and training model: 97.168010s\n",
      "accuracy :0.932666\n",
      "------\n",
      "選20個特徵\n",
      "Time for 向前順序特徵選取法 and training model: 20.288666s\n",
      "accuracy :0.987201\n",
      "Time for 向後順序特徵選取法 and training model: 102.141710s\n",
      "accuracy :0.986088\n",
      "------\n",
      "選30個特徵\n",
      "Time for 向前順序特徵選取法 and training model: 27.915689s\n",
      "accuracy :0.994992\n",
      "Time for 向後順序特徵選取法 and training model: 103.831202s\n",
      "accuracy :0.991096\n",
      "------\n",
      "選40個特徵\n",
      "Time for 向前順序特徵選取法 and training model: 37.867090s\n",
      "accuracy :0.992209\n",
      "Time for 向後順序特徵選取法 and training model: 101.344768s\n",
      "accuracy :0.983862\n",
      "------\n",
      "選50個特徵\n",
      "Time for 向前順序特徵選取法 and training model: 45.819097s\n",
      "accuracy :0.990540\n",
      "Time for 向後順序特徵選取法 and training model: 90.395336s\n",
      "accuracy :0.898720\n",
      "------\n",
      "選60個特徵\n",
      "Time for 向前順序特徵選取法 and training model: 51.237122s\n",
      "accuracy :0.942682\n",
      "Time for 向後順序特徵選取法 and training model: 66.805531s\n",
      "accuracy :0.928770\n"
     ]
    }
   ],
   "source": [
    "# from sklearn.linear_model import LogisticRegression\n",
    "from sklearn.discriminant_analysis  import QuadraticDiscriminantAnalysis\n",
    "from sklearn.feature_selection import SequentialFeatureSelector\n",
    "from sklearn.datasets import load_digits\n",
    "import time \n",
    "import warnings\n",
    "warnings.filterwarnings(\"ignore\")\n",
    "\n",
    "digits = load_digits()\n",
    "X = digits.data\n",
    "Y = digits.target\n",
    "\n",
    "st = time.time()\n",
    "clf = QuadraticDiscriminantAnalysis()\n",
    "clf.fit(X,Y)\n",
    "print('Time for all features and training model: {:5f}s'.format(time.time()-st))\n",
    "print('accuracy :{:5f}'.format(clf.score(X, Y)))\n",
    "acc_forward,acc_backward = [],[]\n",
    "for sele_k in [10,20,30,40,50,60]:\n",
    "    print('------')\n",
    "    print('選{}個特徵'.format(sele_k))\n",
    "    st = time.time()\n",
    "    sfs_forward = SequentialFeatureSelector(\n",
    "        clf, \n",
    "        n_features_to_select=sele_k, \n",
    "        direction=\"forward\"\n",
    "        ).fit(X, Y)\n",
    "    X_ = sfs_forward.transform(X)\n",
    "    clf = QuadraticDiscriminantAnalysis()\n",
    "    clf.fit(X_,Y)\n",
    "    print('Time for 向前順序特徵選取法 and training model: {:5f}s'.format(time.time()-st))\n",
    "    print('accuracy :{:5f}'.format(clf.score(X_, Y)))\n",
    "    acc_forward.append(clf.score(X_, Y))\n",
    "\n",
    "    sfs_backward = SequentialFeatureSelector(\n",
    "        clf, \n",
    "        n_features_to_select=sele_k, \n",
    "        direction=\"backward\"\n",
    "        ).fit(X, Y)\n",
    "    X_ = sfs_backward.transform(X)\n",
    "    clf = QuadraticDiscriminantAnalysis()\n",
    "    clf.fit(X_,Y)\n",
    "    print('Time for 向後順序特徵選取法 and training model: {:5f}s'.format(time.time()-st))\n",
    "    print('accuracy :{:5f}'.format(clf.score(X_, Y)))\n",
    "    acc_backward.append(clf.score(X_, Y))\n",
    "\n"
   ]
  },
  {
   "cell_type": "code",
   "execution_count": 19,
   "id": "db92e0c9",
   "metadata": {},
   "outputs": [
    {
     "data": {
      "text/plain": [
       "<matplotlib.legend.Legend at 0x1675df6c610>"
      ]
     },
     "execution_count": 19,
     "metadata": {},
     "output_type": "execute_result"
    },
    {
     "data": {
      "image/png": "[encoded data removed]",
      "text/plain": [
       "<Figure size 640x480 with 1 Axes>"
      ]
     },
     "metadata": {},
     "output_type": "display_data"
    }
   ],
   "source": [
    "plt.plot([10,20,30,40,50,60],acc_chi2,'*-', label='chi2')\n",
    "plt.plot([10,20,30,40,50,60],acc_forward,'r*-', label='forward')\n",
    "plt.plot([10,20,30,40,50,60],acc_backward,'g*-', label='backward')\n",
    "plt.legend()"
   ]
  },
  {
   "cell_type": "markdown",
   "id": "8c38949f",
   "metadata": {},
   "source": [
    "|花費時間|特徵選取方法|特徵數|正確率|\n",
    "|:-:|:-:|:-:|:-:|\n",
    "|0.011510|無|64|0.932|\n",
    "|0.005000|chi2|10|0.100723|\n",
    "|0.005004|chi2|20|0.100723|\n",
    "|0.007004|chi2|30|0.915415|\n",
    "|0.007509|chi2|40|0.932666|\n",
    "|0.010581|chi2|50|0.953255|\n",
    "|0.010515|chi2|60|0.934335|\n",
    "\n",
    "\n",
    "|花費時間|特徵選取方法|特徵數|正確率|\n",
    "|:-:|:-:|:-:|:-:|\n",
    "|9.447180|向前順序特徵選取法|10|0.907067|\n",
    "|20.288666|向前順序特徵選取法|20|0.987201|\n",
    "|27.915689|向前順序特徵選取法|30|**0.994992**|\n",
    "|37.867090|向前順序特徵選取法|40|0.992209|\n",
    "|45.819097|向前順序特徵選取法|50|0.990540|\n",
    "|51.237122|向前順序特徵選取法|60|0.942682|\n",
    "\n",
    "|花費時間|特徵選取方法|特徵數|正確率|\n",
    "|:-:|:-:|:-:|:-:|\n",
    "|97.168010|向後順序特徵選取法|10|0.907067|\n",
    "|102.141710|向後順序特徵選取法|20|0.986088|\n",
    "|103.831202|向後順序特徵選取法|30|0.991096|\n",
    "|101.344768|向後順序特徵選取法|40|0.983862|\n",
    "|90.395336|向後順序特徵選取法|50|0.898720|\n",
    "|66.805531|向後順序特徵選取法|60|0.928770|\n",
    "\n"
   ]
  },
  {
   "cell_type": "code",
   "execution_count": null,
   "id": "5ea4a8dd",
   "metadata": {},
   "outputs": [],
   "source": []
  },
  {
   "cell_type": "code",
   "execution_count": null,
   "id": "f0c61c6d",
   "metadata": {},
   "outputs": [],
   "source": []
  }
 ],
 "metadata": {
  "kernelspec": {
   "display_name": "Python 3 (ipykernel)",
   "language": "python",
   "name": "python3"
  },
  "language_info": {
   "codemirror_mode": {
    "name": "ipython",
    "version": 3
   },
   "file_extension": ".py",
   "mimetype": "text/x-python",
   "name": "python",
   "nbconvert_exporter": "python",
   "pygments_lexer": "ipython3",
   "version": "3.9.13"
  }
 },
 "nbformat": 4,
 "nbformat_minor": 5
}
