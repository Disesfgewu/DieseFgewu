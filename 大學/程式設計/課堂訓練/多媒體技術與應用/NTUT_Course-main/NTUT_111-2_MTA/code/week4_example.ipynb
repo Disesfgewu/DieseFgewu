{
 "cells": [
  {
<<<<<<< HEAD
=======
   "attachments": {},
>>>>>>> e3f9242a2be8d08481aa31a9a37eca3ddf687d00
   "cell_type": "markdown",
   "id": "672f1472",
   "metadata": {},
   "source": [
<<<<<<< HEAD
    "## Example3: \n",
    "科技公司預計下半年推出A和B兩款筆電，企劃規劃<br>\n",
    "A筆電BOM cost是5000元，組裝成本是5000元。<br>\n",
    "B電競筆電BOM cost是20000元，組裝成本是1000元。<br>\n",
    "C電競筆電BOM cost是30000元，組裝成本是4000元。<br>\n",
    "公司開發BOM採購預算上限是4000萬，組裝、行銷預算上限為600萬。<br>\n",
    "但A、B和C賣出去，每台獲利皆是2000元，假設推出的筆電都能賣出去，請問A、B和C各需要賣出幾台才能獲得最大利潤?<br>"
=======
    "Example3: \n",
    "科技公司預計下半年推出A和B兩款筆電，企劃規劃\n",
    "A筆電BOM cost是5000元，組裝成本是5000元。\n",
    "B電競筆電BOM cost是20000元，組裝成本是1000元。\n",
    "C電競筆電BOM cost是30000元，組裝成本是4000元。\n",
    "公司開發BOM採購預算上限是4000萬，組裝、行銷預算上限為600萬。\n",
    "但A、B和C賣出去，每台獲利皆是2000元，假設推出的筆電都能賣出去，請問A、B和C各需要賣出幾台才能獲得最大利潤?"
>>>>>>> e3f9242a2be8d08481aa31a9a37eca3ddf687d00
   ]
  },
  {
   "cell_type": "code",
   "execution_count": 1,
   "id": "1c672d59",
   "metadata": {},
   "outputs": [
    {
     "name": "stdout",
     "output_type": "stream",
     "text": [
      "---------\n",
      "iter:1\n",
      "x:[0 0 0]\n",
      "f(x):-0.0\n",
      "con1(x):4000.0\n",
      "con2(x):600.0\n",
      "---------\n",
      "iter:501\n",
      "x:[ 60. 115. 180.]\n",
      "f(x):-71.00000000000037\n",
      "con1(x):3199.9999999999936\n",
      "con2(x):486.4999999999995\n",
      "---------\n",
      "iter:1001\n",
      "x:[120. 230. 360.]\n",
      "f(x):-142.00000000000125\n",
      "con1(x):2399.999999999981\n",
      "con2(x):372.9999999999962\n",
      "---------\n",
      "iter:1501\n",
      "x:[180. 345. 540.]\n",
      "f(x):-213.00000000000423\n",
      "con1(x):1599.9999999999482\n",
      "con2(x):259.49999999999176\n",
      "---------\n",
      "iter:2001\n",
      "x:[240. 460. 720.]\n",
      "f(x):-284.00000000000784\n",
      "con1(x):799.9999999999081\n",
<<<<<<< HEAD
      "con2(x):145.99999999998698\n",
      "---------\n",
      "iter:2500\n",
      "x:[300. 575. 900.]\n",
      "f(x):-355.0000000000115\n",
      "con1(x):-1.3142198440618813e-10\n",
      "con2(x):32.499999999982265\n"
=======
      "con2(x):145.99999999998698\n"
>>>>>>> e3f9242a2be8d08481aa31a9a37eca3ddf687d00
     ]
    }
   ],
   "source": [
    "import numpy as np\n",
    "\n",
    "# example 3\n",
    "def f(x):\n",
    "    return -(0.2*x[0]+0.2*x[1]+0.2*x[2])\n",
    "def cons_f1(x):\n",
    "    return -0.5*x[0]-2*x[1]-3*x[2]+4000\n",
    "def cons_f2(x):\n",
    "    return -0.5*x[0]-0.1*x[1]-0.4*x[2]+600\n",
    "\n",
    "lr = 0.1\n",
    "x = np.array([0,0,0])\n",
    "g= np.array([-1.2, -2.3, -3.6])\n",
    "\n",
    "x_hat = x\n",
    "for i in range(2500):\n",
    "    if i % 500 ==0:\n",
    "        print('---------')\n",
    "        print('iter:{}'.format(i+1))\n",
    "        print('x:{}'.format(x_hat))\n",
    "        print('f(x):{}'.format(f(x_hat)))\n",
    "        print('con1(x):{}'.format(cons_f1(x_hat)))\n",
    "        print('con2(x):{}'.format(cons_f2(x_hat)))\n",
<<<<<<< HEAD
    "    \n",
    "    x_hat = x_hat - lr * g\n",
    "print('---------')\n",
    "print('iter:{}'.format(i+1))\n",
    "print('x:{}'.format(x_hat))\n",
    "print('f(x):{}'.format(f(x_hat)))\n",
    "print('con1(x):{}'.format(cons_f1(x_hat)))\n",
    "print('con2(x):{}'.format(cons_f2(x_hat)))"
=======
    "    x_hat = x_hat - lr * g\n"
>>>>>>> e3f9242a2be8d08481aa31a9a37eca3ddf687d00
   ]
  },
  {
   "cell_type": "code",
   "execution_count": 2,
   "id": "f3d1cc6b",
   "metadata": {},
   "outputs": [
    {
     "name": "stdout",
     "output_type": "stream",
     "text": [
      "---------\n",
      "number of devices:[300. 575. 900.]\n",
      "355.0000000000115\n",
      "4000.0000000001314\n",
      "567.5000000000177\n",
      "---------\n",
      "number of devices:[299. 574. 899.]\n",
      "354.4000000000115\n",
      "3994.5000000001314\n",
      "566.5000000000177\n",
      "---------\n",
      "number of devices:[301. 576. 901.]\n",
      "355.6000000000115\n",
      "4005.5000000001314\n",
      "568.5000000000177\n"
     ]
    }
   ],
   "source": [
    "x= x_hat\n",
    "def f(x):\n",
    "    return (0.2*x[0]+0.2*x[1]+0.2*x[2])\n",
    "def cons_f1(x):\n",
    "    return 0.5*x[0]+2*x[1]+3*x[2]\n",
    "def cons_f2(x):\n",
    "    return 0.5*x[0]+0.1*x[1]+0.4*x[2]\n",
    "\n",
    "print('---------')\n",
    "print('number of devices:{}'.format(x))\n",
    "print(f(x))\n",
    "print(cons_f1(x))\n",
    "print(cons_f2(x))\n",
    "\n",
    "\n",
    "x= x_hat-1\n",
    "print('---------')\n",
    "print('number of devices:{}'.format(x))\n",
    "print(f(x))\n",
    "print(cons_f1(x))\n",
    "print(cons_f2(x))\n",
    "\n",
    "x= x_hat+1\n",
    "print('---------')\n",
    "print('number of devices:{}'.format(x))\n",
    "print(f(x))\n",
    "print(cons_f1(x))\n",
    "print(cons_f2(x))"
   ]
  },
  {
   "cell_type": "code",
   "execution_count": null,
   "id": "964ef299",
   "metadata": {},
   "outputs": [],
   "source": []
  }
 ],
 "metadata": {
  "kernelspec": {
   "display_name": "Python 3 (ipykernel)",
   "language": "python",
   "name": "python3"
  },
  "language_info": {
   "codemirror_mode": {
    "name": "ipython",
    "version": 3
   },
   "file_extension": ".py",
   "mimetype": "text/x-python",
   "name": "python",
   "nbconvert_exporter": "python",
   "pygments_lexer": "ipython3",
   "version": "3.9.7"
  }
 },
 "nbformat": 4,
 "nbformat_minor": 5
}
