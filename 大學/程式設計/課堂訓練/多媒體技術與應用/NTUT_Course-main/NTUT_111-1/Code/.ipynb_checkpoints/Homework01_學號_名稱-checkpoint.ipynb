{
 "cells": [
  {
   "cell_type": "markdown",
   "id": "e923e634",
   "metadata": {},
   "source": [
    "# 作業1-水果資料集Dataset和Dataloader\n",
    "Github上有一個水果資料集<br>\n",
    "[水果資料集](https://github.com/TommyHuang821/NTUT_Course/blob/main/NTUT_111-1/Code/dataset/Example_fruit.zip)\n"
   ]
  },
  {
   "cell_type": "markdown",
   "id": "f88e8f4f",
   "metadata": {},
   "source": [
    "## Q1.\t請利用課程教的dataset宣告方式寫出pytorch私有資料庫(class 宣告)的讀取方式。"
   ]
  },
  {
   "cell_type": "code",
   "execution_count": null,
   "id": "a56771d3",
   "metadata": {},
   "outputs": [],
   "source": [
    "# Q1: code here\n",
    "\n"
   ]
  },
  {
   "cell_type": "markdown",
   "id": "dc2fffdf",
   "metadata": {},
   "source": [
    "## Q2.\t嘗試用pytorch dataloader讀資料，並設定batch = 1, 3, 5, 7。\n"
   ]
  },
  {
   "cell_type": "code",
   "execution_count": null,
   "id": "e3659054",
   "metadata": {},
   "outputs": [],
   "source": [
    "# Q2: code here\n",
    "\n"
   ]
  },
  {
   "cell_type": "markdown",
   "id": "71e337fc",
   "metadata": {},
   "source": [
    "## Q3.\t執行Shuffle=True 和False在batch = 10，並說明兩者的差異。\n"
   ]
  },
  {
   "cell_type": "code",
   "execution_count": null,
   "id": "81a42f60",
   "metadata": {},
   "outputs": [],
   "source": [
    "# Q2: code here\n",
    "\n"
   ]
  }
 ],
 "metadata": {
  "kernelspec": {
   "display_name": "Python 3 (ipykernel)",
   "language": "python",
   "name": "python3"
  },
  "language_info": {
   "codemirror_mode": {
    "name": "ipython",
    "version": 3
   },
   "file_extension": ".py",
   "mimetype": "text/x-python",
   "name": "python",
   "nbconvert_exporter": "python",
   "pygments_lexer": "ipython3",
   "version": "3.7.9"
  }
 },
 "nbformat": 4,
 "nbformat_minor": 5
}
