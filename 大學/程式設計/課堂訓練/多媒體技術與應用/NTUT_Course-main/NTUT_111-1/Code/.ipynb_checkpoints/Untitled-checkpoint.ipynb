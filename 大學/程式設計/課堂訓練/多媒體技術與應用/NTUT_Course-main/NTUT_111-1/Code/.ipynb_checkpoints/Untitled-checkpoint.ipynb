{
 "cells": [
  {
   "cell_type": "code",
   "execution_count": 10,
   "id": "7f44cb58",
   "metadata": {},
   "outputs": [
    {
     "name": "stdout",
     "output_type": "stream",
     "text": [
      "number of total data:4597\n",
      "597\n"
     ]
    }
   ],
   "source": [
    "import torch\n",
    "import numpy as np\n",
    "import PIL.Image as Image\n",
    "import torchvision.transforms.functional as FT\n",
    "from torchvision import transforms\n",
    "\n",
    "import json\n",
    "__author__ = \"Chih-Sheng(Tommy) Huang\"\n",
    "\n",
    "mytransform=transforms.Compose([\n",
    "        transforms.Resize((224,224)),\n",
    "        transforms.ToTensor(),\n",
    "        ])\n",
    "\n",
    "class MyDataset_CarBrandsImages(torch.utils.data.Dataset):\n",
    "    '''\n",
    "    Class to load the dataset\n",
    "    '''\n",
    "    def __init__(self,transforms):\n",
    "        \n",
    "        with open('./dataset/CarBrandsImages/carbrand.json') as jsonfile:\n",
    "            data_load = json.load(jsonfile)\n",
    "        self.imList = data_load['imagepaths']\n",
    "        self.labelList = data_load['labels']\n",
    "        self.transforms=transforms\n",
    "        print('number of total data:{}'.format(len(self.imList)))\n",
    "    def __len__(self):\n",
    "        return len(self.imList)-4000\n",
    "\n",
    "    def __getitem__(self, idx):\n",
    "        '''\n",
    "        :param idx: Index of the image file\n",
    "        :return: returns the image and corresponding label file.\n",
    "        '''\n",
    "        image_name = self.imList[idx]\n",
    "        label = self.labelList[idx]\n",
    "        \n",
    "        # read image with PIL module\n",
    "        image = Image.open(image_name, mode='r')\n",
    "        image = image.convert('RGB')\n",
    "    \n",
    "        \n",
    "        # Convert PIL label image to torch.Tensor\n",
    "        image = self.transforms(image)\n",
    "        label = torch.tensor(label)\n",
    "        return image, label\n",
    "\n",
    "if __name__ == \"__main__\":\n",
    "    mydataset = MyDataset_CarBrandsImages(transforms=mytransform)\n",
    "    c=0\n",
    "    mydata_loader = torch.utils.data.DataLoader(mydataset, batch_size=1, num_workers=0)\n",
    "    for data in mydata_loader:\n",
    "        c+=1\n",
    "    print(c) "
   ]
  },
  {
   "cell_type": "code",
   "execution_count": 8,
   "id": "1eb0c7fa",
   "metadata": {},
   "outputs": [
    {
     "data": {
      "text/plain": [
       "597"
      ]
     },
     "execution_count": 8,
     "metadata": {},
     "output_type": "execute_result"
    }
   ],
   "source": [
    "mydataset.__len__()"
   ]
  },
  {
   "cell_type": "code",
   "execution_count": null,
   "id": "3580f491",
   "metadata": {},
   "outputs": [],
   "source": []
  }
 ],
 "metadata": {
  "kernelspec": {
   "display_name": "Python 3 (ipykernel)",
   "language": "python",
   "name": "python3"
  },
  "language_info": {
   "codemirror_mode": {
    "name": "ipython",
    "version": 3
   },
   "file_extension": ".py",
   "mimetype": "text/x-python",
   "name": "python",
   "nbconvert_exporter": "python",
   "pygments_lexer": "ipython3",
   "version": "3.7.9"
  }
 },
 "nbformat": 4,
 "nbformat_minor": 5
}
