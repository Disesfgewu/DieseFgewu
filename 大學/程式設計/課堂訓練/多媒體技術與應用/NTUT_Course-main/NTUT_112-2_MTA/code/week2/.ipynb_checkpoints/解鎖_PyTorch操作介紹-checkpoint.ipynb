{
 "cells": [
  {
   "cell_type": "markdown",
   "id": "6971ed0f",
   "metadata": {},
   "source": [
    "# Pytorch 操作介紹: 一般自有資料操作流程\n",
    "## 1. 單步解說: 以IRIS資料為例\n",
    "## 2. 完整操作:以BOSTON房價為例\n",
    "\n",
    "--------------------------\n",
    "## 1. 單步解說: 以IRIS資料為例\n",
    "I. dataloader<br>\n",
    "II. 自建模型<br>\n",
    "III. 損失/目標函數(loss函數)<br>\n",
    "IV. 梯度更新<br>"
   ]
  },
  {
   "attachments": {
    "image.png": {
     "image/png": "[encoded data removed]"
    }
   },
   "cell_type": "markdown",
   "id": "8ee4daf3",
   "metadata": {},
   "source": [
    "### I. Dataloader\n",
    "在今天課程，我們使用IRIS data當作私有資料範例，這邊我已經將iris.data改成csv資料格式(iris.csv)<br>\n",
    "iris.csv存放路徑為: /dataset/iris.csv，我們用excel將檔案打開如下：<br>\n",
    "![image.png](attachment:image.png)\n",
    "\n",
    "這邊我們使用numpy模組將csv讀到電腦內，但實際上不一定要用numpy，用你覺得方便的方法即可。<br>\n",
    "因為此csv內有文字格式，所以我們用str方式進行存取<br>"
   ]
  },
  {
   "cell_type": "code",
   "execution_count": 1,
   "id": "82b32c22",
   "metadata": {},
   "outputs": [
    {
     "name": "stdout",
     "output_type": "stream",
     "text": [
      "[['5.1' '3.5' '1.4' '0.2' 'Iris-setosa']\n",
      " ['5.4' '3.4' '1.7' '0.2' 'Iris-setosa']\n",
      " ['5.0' '3.5' '1.3' '0.3' 'Iris-setosa']\n",
      " ['5.0' '2.0' '3.5' '1.0' 'Iris-versicolor']\n",
      " ['5.5' '2.4' '3.8' '1.1' 'Iris-versicolor']\n",
      " ['6.3' '3.3' '6.0' '2.5' 'Iris-virginica']\n",
      " ['6.9' '3.2' '5.7' '2.3' 'Iris-virginica']\n",
      " ['6.7' '3.1' '5.6' '2.4' 'Iris-virginica']]\n"
     ]
    }
   ],
   "source": [
    "import torch\n",
    "import numpy as np\n",
    "filepath = './Data/iris.csv'\n",
    "csvdata_iris = np.loadtxt(filepath,dtype=np.str_, delimiter=',')\n",
    "print(csvdata_iris[0:150:20,:])"
   ]
  },
  {
   "cell_type": "markdown",
   "id": "240799de",
   "metadata": {},
   "source": [
    "<font size=4>利用PyTorch內建的函數進行資料打包和隨機切割batch(批次)資料\n",
    "1. torch.utils.data.TensorDataset\n",
    "2. torch.utils.data.DataLoader\n",
    "</font>\n",
    "    \n",
    "#### 1. torch.utils.data.TensorDataset\n",
    "- 1. 將numpy array轉換到Torch Tensor\n",
    "- 2. 利用```torch.utils.data.TensorDataset``` 將資料打包"
   ]
  },
  {
   "cell_type": "code",
   "execution_count": 2,
   "id": "6fb18679",
   "metadata": {},
   "outputs": [
    {
     "name": "stdout",
     "output_type": "stream",
     "text": [
      "X_tensor:torch.Size([150, 4])\n",
      "Y_tensor:torch.Size([150])\n"
     ]
    }
   ],
   "source": [
    "import torch\n",
    "import numpy as np\n",
    "filepath = './Data/iris.csv'\n",
    "csvdata_iris = np.loadtxt(filepath,dtype=np.str_, delimiter=',')\n",
    "X = np.float_(csvdata_iris[:,0:4])\n",
    "Y = csvdata_iris[:,4]\n",
    "label=[]\n",
    "for tmp_y in Y:\n",
    "    if tmp_y == 'Iris-setosa':\n",
    "        label.append(0)\n",
    "    elif tmp_y == 'Iris-versicolor':\n",
    "        label.append(1)\n",
    "    elif tmp_y == 'Iris-virginica':\n",
    "        label.append(2)\n",
    "Y=label\n",
    "\n",
    "X_tensor = torch.tensor(X, dtype=torch.float) # X_train = torch.FloatTensor(X_train)\n",
    "Y_tensor = torch.tensor(Y, dtype=torch.long)\n",
    "print('X_tensor:{}'.format(X_tensor.shape))\n",
    "print('Y_tensor:{}'.format(Y_tensor.shape))\n",
    "mydatasets = torch.utils.data.TensorDataset(X_tensor, Y_tensor)"
   ]
  },
  {
   "cell_type": "markdown",
   "id": "967acdcc",
   "metadata": {},
   "source": [
    "我們看一下利用torch.utils.data.TensorDataset將資料打包有什麼用?"
   ]
  },
  {
   "cell_type": "code",
   "execution_count": 3,
   "id": "8d311e85",
   "metadata": {},
   "outputs": [
    {
     "name": "stdout",
     "output_type": "stream",
     "text": [
      "0-th:(tensor([5.1000, 3.5000, 1.4000, 0.2000]), tensor(0))\n",
      "1-th:(tensor([4.9000, 3.0000, 1.4000, 0.2000]), tensor(0))\n",
      "2-th:(tensor([4.7000, 3.2000, 1.3000, 0.2000]), tensor(0))\n",
      "manually selection\n",
      "0-th:(tensor([5.1000, 3.5000, 1.4000, 0.2000]), tensor(0))\n",
      "1-th:(tensor([4.9000, 3.0000, 1.4000, 0.2000]), tensor(0))\n",
      "2-nd:(tensor([4.7000, 3.2000, 1.3000, 0.2000]), tensor(0))\n"
     ]
    }
   ],
   "source": [
    "for i, tmp  in enumerate(mydatasets):\n",
    "    print('{}-th:{}'.format(i, tmp))\n",
    "    if i==2:break\n",
    "print('manually selection')\n",
    "print('0-th:{}'.format(mydatasets[0]))    \n",
    "print('1-th:{}'.format(mydatasets[1]))    \n",
    "print('2-nd:{}'.format(mydatasets[2]))    "
   ]
  },
  {
   "cell_type": "markdown",
   "id": "574cb143",
   "metadata": {},
   "source": [
    "所以利用```torch.utils.data.TensorDataset```把包後的mydatasets會將資料依照訊續一筆一筆輸出。<br>\n",
    "這樣如果我在訓練模型時候的資料，永遠都會依照順序輸出，一點好處都沒有啊，我們在訊練模型為了避免資料在每一次學習過程中都都是一樣的排列處和，我們會希望在每一次訓練資料都是隨機組成一個batch。<br>\n",
    "ANS: Write the shuffle code by yourself, it's easy but \"why do we not use a ready code?\"<br>\n",
    "using ```torch.utils.data.DataLoader```<br>\n",
    "#### 2. torch.utils.data.DataLoader"
   ]
  },
  {
   "cell_type": "code",
   "execution_count": 4,
   "id": "ce2100fa",
   "metadata": {},
   "outputs": [],
   "source": [
    "mydataloader_noshu = torch.utils.data.DataLoader(mydatasets, batch_size=3, shuffle=False,num_workers=0)\n",
    "mydataloader_shu = torch.utils.data.DataLoader(mydatasets, batch_size=3, shuffle=True,num_workers=0)"
   ]
  },
  {
   "cell_type": "markdown",
   "id": "84e33f70",
   "metadata": {},
   "source": [
    "我們讓dataloader重覆跑三次，來看看每一次dataloder重新跑for loop取出來的資料有沒有一樣\n",
    "1. 沒有Shuffle的dataloader"
   ]
  },
  {
   "cell_type": "code",
   "execution_count": 5,
   "id": "2dcb735e",
   "metadata": {},
   "outputs": [
    {
     "name": "stdout",
     "output_type": "stream",
     "text": [
      "0-iter :\n",
      "0-th data:\n",
      "tensor([[5.1000, 3.5000, 1.4000, 0.2000],\n",
      "        [4.9000, 3.0000, 1.4000, 0.2000],\n",
      "        [4.7000, 3.2000, 1.3000, 0.2000]])\n",
      "1-iter :\n",
      "0-th data:\n",
      "tensor([[5.1000, 3.5000, 1.4000, 0.2000],\n",
      "        [4.9000, 3.0000, 1.4000, 0.2000],\n",
      "        [4.7000, 3.2000, 1.3000, 0.2000]])\n",
      "2-iter :\n",
      "0-th data:\n",
      "tensor([[5.1000, 3.5000, 1.4000, 0.2000],\n",
      "        [4.9000, 3.0000, 1.4000, 0.2000],\n",
      "        [4.7000, 3.2000, 1.3000, 0.2000]])\n"
     ]
    }
   ],
   "source": [
    "for i_repeat in range(3):\n",
    "    for i, tmp  in enumerate(mydataloader_noshu):\n",
    "        data  = tmp[0]\n",
    "        print('{}-iter :\\n{}-th data:\\n{}'.format(i_repeat, i, data))\n",
    "        if i==0:break "
   ]
  },
  {
   "cell_type": "markdown",
   "id": "2cccf0fc",
   "metadata": {},
   "source": [
    "2. 有Shuffle的dataloader"
   ]
  },
  {
   "cell_type": "code",
   "execution_count": 6,
   "id": "06dbe774",
   "metadata": {},
   "outputs": [
    {
     "name": "stdout",
     "output_type": "stream",
     "text": [
      "0-iter :\n",
      "0-th data:\n",
      "tensor([[5.4000, 3.4000, 1.7000, 0.2000],\n",
      "        [6.1000, 2.9000, 4.7000, 1.4000],\n",
      "        [6.3000, 2.5000, 5.0000, 1.9000]])\n",
      "1-iter :\n",
      "0-th data:\n",
      "tensor([[5.0000, 3.0000, 1.6000, 0.2000],\n",
      "        [6.1000, 3.0000, 4.6000, 1.4000],\n",
      "        [5.9000, 3.2000, 4.8000, 1.8000]])\n",
      "2-iter :\n",
      "0-th data:\n",
      "tensor([[6.0000, 2.9000, 4.5000, 1.5000],\n",
      "        [4.8000, 3.1000, 1.6000, 0.2000],\n",
      "        [6.1000, 2.6000, 5.6000, 1.4000]])\n"
     ]
    }
   ],
   "source": [
    "for i_repeat in range(3):\n",
    "    for i, tmp  in enumerate(mydataloader_shu):\n",
    "        data  = tmp[0]\n",
    "        print('{}-iter :\\n{}-th data:\\n{}'.format(i_repeat, i, data))\n",
    "        if i==0:break "
   ]
  },
  {
   "cell_type": "markdown",
   "id": "d24423b1",
   "metadata": {},
   "source": [
    "<font size=4> 如何操作自建立的dataset和dataloder的細節我們在下一堂「成為AI工程師必學的深度學習與 PyTorch 實作」中利用主題單元來詳述。"
   ]
  },
  {
   "cell_type": "markdown",
   "id": "cae7778e",
   "metadata": {},
   "source": [
    "### II. 自建模型\n",
    "利用PyTorch自建立模型\n",
    "1. 簡易建立方式: 直接練一回歸模型→$y=f(w_0+w_1x_1+w_2x_2+w_3x_3+w_4x_4), y=0,1,2$\n",
    "2. 正常建立方式: 建立MLP→$y=f(x), y=0,1,2$"
   ]
  },
  {
   "cell_type": "code",
   "execution_count": 7,
   "id": "916e6cd5",
   "metadata": {},
   "outputs": [
    {
     "name": "stdout",
     "output_type": "stream",
     "text": [
      "Sequential(\n",
      "  (0): Linear(in_features=4, out_features=3, bias=True)\n",
      ")\n"
     ]
    }
   ],
   "source": [
    "model_simple = torch.nn.Sequential(\n",
    "    torch.nn.Linear(4, 3)\n",
    ")\n",
    "print(model_simple)"
   ]
  },
  {
   "attachments": {
    "image.png": {
     "image/png": "[encoded data removed]"
    }
   },
   "cell_type": "markdown",
   "id": "46966157",
   "metadata": {},
   "source": [
    "這邊在宣告你要用什麼神經網路，自己兜得或是開源模型都可以\n",
    "\n",
    "Multiple-layer perceptron (MLP)\n",
    "這邊我們用一個一層Hidden layer<br>\n",
    "所以神經網路的結構為<br>\n",
    "Input layer (node數為4) → Hidden layer (node數設定為10) → Output layer (node數為3)\n",
    "![image.png](attachment:image.png)"
   ]
  },
  {
   "cell_type": "code",
   "execution_count": 8,
   "id": "3eac4648",
   "metadata": {},
   "outputs": [
    {
     "name": "stdout",
     "output_type": "stream",
     "text": [
      "MLP(\n",
      "  (mlp): Sequential(\n",
      "    (0): Linear(in_features=4, out_features=10, bias=True)\n",
      "    (1): ReLU()\n",
      "    (2): Linear(in_features=10, out_features=3, bias=True)\n",
      "  )\n",
      ")\n"
     ]
    }
   ],
   "source": [
    "class MLP(torch.nn.Module):\n",
    "    def __init__(self, input_channel=4, n_class=3):\n",
    "        super(MLP,self).__init__()\n",
    "        self.mlp = torch.nn.Sequential(\n",
    "            torch.nn.Linear(input_channel, 10),\n",
    "            torch.nn.ReLU(),\n",
    "            torch.nn.Linear(10, n_class),\n",
    "            )\n",
    "    def forward(self,x):\n",
    "        x = self.mlp(x)\n",
    "        return x\n",
    "model_mlp = MLP(input_channel=4, n_class=3)\n",
    "print(model_mlp)"
   ]
  },
  {
   "cell_type": "markdown",
   "id": "f13f6a81",
   "metadata": {},
   "source": [
    "### III. 損失/目標函數(loss函數)\n",
    "\n",
    "<br>宣告loss函數，模型預測的結果和ground truth整合計算差異用來更新模型</br>\n",
    "<br>這邊提的是和ground truth整合計算差異所以泛屬於supervised learning</br>\n",
    "<br>reference:https://pytorch.org/docs/stable/nn.html#loss-functions\n",
    "\n",
    "<br>**這邊我們用到的是cross entropy作為loss function**\n",
    "<br>torch.nn.CrossEntropyLoss = log_softmax → nll_loss \n",
    "<br>log_softmax: torch.nn.functional.log_softmax\n",
    "<br>nll_loss: torch.nn.functional.nll_loss (negative log likelihood loss)"
   ]
  },
  {
   "cell_type": "code",
   "execution_count": 9,
   "id": "1e66dee6",
   "metadata": {},
   "outputs": [
    {
     "name": "stdout",
     "output_type": "stream",
     "text": [
      "inputdata:tensor([[3., 2., 1.],\n",
      "        [4., 5., 6.]], dtype=torch.float64, requires_grad=True)\n",
      "target:tensor([0, 2])\n",
      "loss value by function (torch.nn.CrossEntropyLoss): 0.4076059644443804\n",
      "loss value by (log_softmax and nll_loss): 0.4076059644443804\n"
     ]
    }
   ],
   "source": [
    "loss = torch.nn.CrossEntropyLoss()\n",
    "\n",
    "import numpy as np\n",
    "x = np.array([[3.0,2.0,1.0],\n",
    "              [4.0,5.0,6.0]])\n",
    "inputdata = torch.tensor(x, requires_grad=True)\n",
    "target = np.array([0, 2])\n",
    "target = torch.LongTensor(target)\n",
    "output1 = loss(inputdata, target)\n",
    "print('inputdata:{}'.format(inputdata))\n",
    "print('target:{}'.format(target))\n",
    "print('loss value by function (torch.nn.CrossEntropyLoss): {}'.format(output1))\n",
    "\n",
    "\n",
    "from  torch.nn.functional import log_softmax,nll_loss, softmax\n",
    "ls_x = log_softmax(inputdata,dim=1)\n",
    "output2 = nll_loss(ls_x, target)\n",
    "print('loss value by (log_softmax and nll_loss): {}'.format(output2))"
   ]
  },
  {
   "cell_type": "markdown",
   "id": "a947233c",
   "metadata": {},
   "source": [
    "所以用程式算Cross entropy分別用這兩種方式計算\n",
    "1. torch.nn.CrossEntropyLoss，結果為 0.4076059644443804\n",
    "2. log_softmax → nll_loss，結果為 0.4076059644443804\n",
    "結果是一樣的"
   ]
  },
  {
   "cell_type": "markdown",
   "id": "a92c20f9",
   "metadata": {},
   "source": [
    "所以用程式算Cross entropy分別用這兩種方式計算\n",
    "<br> 1. torch.nn.CrossEntropyLoss，結果為 0.4076059644443804\n",
    "<br> 2. log_softmax → nll_loss，結果為 0.4076059644443804\n",
    "<br>結果是一樣的\n",
    "\n",
    "<br>**利用手算**:  \n",
    "<br>$ x = \\begin{bmatrix} 3 & 2 & 1 \\\\ 4 & 5 & 6 \\\\ \\end{bmatrix} $\n",
    "$, label = \\begin{bmatrix} 0 \\\\ 2 \\\\ \\end{bmatrix} $\n",
    "<br>Onehot encoder for label:\n",
    "<br>$ y(label) = \\begin{bmatrix} 1 & 0 & 0 \\\\ 0 & 0 & 1 \\\\ \\end{bmatrix} $\n",
    "\n",
    "<br> softmax operator:\n",
    "<br>$ p_i = softmax(x_i)= \\frac{exp((x_i))}{\\sum_{l=1}^L exp(x_i(l))}$\n",
    "\n",
    "<br>$ p = \\begin{bmatrix} p_1 \\\\ p_2 \\\\ \\end{bmatrix} = \\begin{bmatrix} 0.6652 & 0.2447 & 0.0900 \\\\ 0.0900 & 0.2447 & 0.6652 \\\\ \\end{bmatrix}$\n",
    "\n",
    "<br>$ log(p) = \\begin{bmatrix} -0.4076 & -1.4076 & -2.4076 \\\\ -2.4076 & -1.4076 & -0.4076 \\\\ \\end{bmatrix}$\n",
    "\n",
    "$CE = -\\sum_{i=1}^n \\sum_{c=1}^L y_{i,c} * log(p_{i,c})$\n",
    "<br>$ = -(1 \\times -0.4076 + 0 \\times -1.4076 + 0 \\times-2.4076)  + (0 \\times -2.4076 + 0 \\times -1.4076 + 1 \\times-0.4076) $\n",
    "<br>$ = -(-0.4076 + -0.4076) $\n",
    "<br>$ = 0.8152 $\n",
    "\n",
    "<font color = red  size=4>**手算結果為0.8152怎麼跟程式 0.4076不一樣**</font>\n",
    "<br><br> 我們看一下程式碼CrossEntropyLoss default參數\n",
    "<br><br>   torch.nn.CrossEntropyLoss(weight=None, size_average=None, ignore_index=-100, reduce=None, <font color = red> **reduction='mean'**</font>)\n",
    "<br><br> 程式碼用平均後的結果，所以手算的結果0.8152除上2，$ 0.8152 \\div{2} =0.4076$ 就跟程式 0.4076的一樣了\n",
    "<br><br> 這個範例是兩筆資料，假設我們有一千筆資料，每一筆資料的CE loss都是0.4076，如果我們不用平均的方式處理，CE=407.6，這樣的loss值太大，我們很難好好更新模型參數，所以採用平均數的做法有點類似正規化，避免整體loss因為樣本數過多爆掉。\n"
   ]
  },
  {
   "cell_type": "markdown",
   "id": "4fa49d2f",
   "metadata": {},
   "source": [
    "### IV. 梯度更新\n",
    "這邊細節我們不講，細節我們在下一堂「**成為AI工程師必學的深度學習與 PyTorch 實作**」中利用主題單元來詳述。<br>\n",
    "我們直接採用Torch內的函數**最佳化器**```torch.optim```<br>\n",
    "這個步驟是在看我們模型更新需要改用什麼樣的演算法<br>\n",
    "例如: SGD, Adagrad, RMSprop, Adam, LBFGS等。<br>\n",
    "reference: https://pytorch.org/docs/stable/optim.html<br>\n",
    "\n",
    "因為神經網路是去更新模型的權重，可以想像是羅吉斯回歸的係數更新的概念(我們在羅吉斯回歸有提過，如果忘記可回去看一下羅吉斯回歸的內容)<br>\n",
    "所以我們需要將模型的參數指定到最佳化器<br>\n",
    "Example: ```optim.SGD(model.parameters(), lr=0.01)```"
   ]
  },
  {
   "cell_type": "code",
   "execution_count": 10,
   "id": "d4b936b1",
   "metadata": {},
   "outputs": [],
   "source": [
    "import torch.optim as optim\n",
    "# optimizer = optim.Adam(model.parameters(), lr=0.01)\n",
    "optimizer_simple = optim.SGD(model_simple.parameters(), lr=0.01, momentum=0.9, weight_decay=0.02)\n",
    "optimizer_mlp = optim.SGD(model_mlp.parameters(), lr=0.01, momentum=0.9, weight_decay=0.02)"
   ]
  },
  {
   "cell_type": "markdown",
   "id": "f3fc303b",
   "metadata": {},
   "source": [
    "#### 補上一個步驟0:要用CPU來計算還是GPU\n",
    "運算的時候，CPU和GPU不能混再一起算。<br>\n",
    "比如說 $y=wx$，$w$和$x$不能在不同設備<br>\n",
    "\n",
    "\n",
    "|$w$|$x$|$wx$狀態|\n",
    "|:-|:-|:-:|\n",
    "|CPU|CPU|o|\n",
    "|GPU|GPU|o|\n",
    "|CPU|GPU|X|\n",
    "|GPU|CPU|X|\n",
    "\n"
   ]
  },
  {
   "cell_type": "code",
   "execution_count": 23,
   "id": "713e34bd",
   "metadata": {},
   "outputs": [
    {
     "name": "stdout",
     "output_type": "stream",
     "text": [
      "--------------------------------------------------\n",
      "x: cpu, w:cpu\n",
      "x*w=tensor([200.])(cpu)\n",
      "--------------------------------------------------\n",
      "x: cuda:0, w:cuda:0\n",
      "x(cuda:0)*w(cuda:0)=tensor([200.], device='cuda:0')(cuda:0)\n",
      "--------------------------------------------------\n",
      "x: cuda:0, w:cpu\n"
     ]
    },
    {
     "ename": "RuntimeError",
     "evalue": "Expected all tensors to be on the same device, but found at least two devices, cuda:0 and cpu!",
     "output_type": "error",
     "traceback": [
      "\u001b[1;31m---------------------------------------------------------------------------\u001b[0m",
      "\u001b[1;31mRuntimeError\u001b[0m                              Traceback (most recent call last)",
      "\u001b[1;32m~\\AppData\\Local\\Temp\\ipykernel_27396\\3721427965.py\u001b[0m in \u001b[0;36m<module>\u001b[1;34m\u001b[0m\n\u001b[0;32m     19\u001b[0m \u001b[0mx\u001b[0m \u001b[1;33m=\u001b[0m \u001b[0mtorch\u001b[0m\u001b[1;33m.\u001b[0m\u001b[0mFloatTensor\u001b[0m\u001b[1;33m(\u001b[0m\u001b[1;33m[\u001b[0m\u001b[1;36m20\u001b[0m\u001b[1;33m]\u001b[0m\u001b[1;33m)\u001b[0m\u001b[1;33m.\u001b[0m\u001b[0mto\u001b[0m\u001b[1;33m(\u001b[0m\u001b[0mdevice_gpu\u001b[0m\u001b[1;33m)\u001b[0m\u001b[1;33m\u001b[0m\u001b[1;33m\u001b[0m\u001b[0m\n\u001b[0;32m     20\u001b[0m \u001b[0mprint\u001b[0m\u001b[1;33m(\u001b[0m\u001b[1;34m'x: {}, w:{}'\u001b[0m\u001b[1;33m.\u001b[0m\u001b[0mformat\u001b[0m\u001b[1;33m(\u001b[0m\u001b[0mx\u001b[0m\u001b[1;33m.\u001b[0m\u001b[0mdevice\u001b[0m\u001b[1;33m,\u001b[0m\u001b[0mw\u001b[0m\u001b[1;33m.\u001b[0m\u001b[0mdevice\u001b[0m\u001b[1;33m)\u001b[0m\u001b[1;33m)\u001b[0m\u001b[1;33m\u001b[0m\u001b[1;33m\u001b[0m\u001b[0m\n\u001b[1;32m---> 21\u001b[1;33m \u001b[0mprint\u001b[0m\u001b[1;33m(\u001b[0m\u001b[1;34m'x({})*w({})={}({})'\u001b[0m\u001b[1;33m.\u001b[0m\u001b[0mformat\u001b[0m\u001b[1;33m(\u001b[0m\u001b[0mx\u001b[0m\u001b[1;33m.\u001b[0m\u001b[0mdevice\u001b[0m\u001b[1;33m,\u001b[0m\u001b[0mw\u001b[0m\u001b[1;33m.\u001b[0m\u001b[0mdevice\u001b[0m\u001b[1;33m,\u001b[0m\u001b[0mx\u001b[0m\u001b[1;33m*\u001b[0m\u001b[0mw\u001b[0m\u001b[1;33m,\u001b[0m\u001b[1;33m(\u001b[0m\u001b[0mx\u001b[0m\u001b[1;33m*\u001b[0m\u001b[0mw\u001b[0m\u001b[1;33m)\u001b[0m\u001b[1;33m.\u001b[0m\u001b[0mdevice\u001b[0m\u001b[1;33m)\u001b[0m\u001b[1;33m)\u001b[0m\u001b[1;33m\u001b[0m\u001b[1;33m\u001b[0m\u001b[0m\n\u001b[0m",
      "\u001b[1;31mRuntimeError\u001b[0m: Expected all tensors to be on the same device, but found at least two devices, cuda:0 and cpu!"
     ]
    }
   ],
   "source": [
    "import torch\n",
    "use_cuda = 1\n",
    "device_gpu = torch.device(\"cuda\" )\n",
    "device_cpu = torch.device(\"cpu\")\n",
    "\n",
    "print('-'*50)\n",
    "w = torch.FloatTensor([10])\n",
    "x = torch.FloatTensor([20])\n",
    "print('x: {}, w:{}'.format(x.device,w.device))\n",
    "print('x*w={}({})'.format(x*w,(x*w).device))\n",
    "print('-'*50)\n",
    "w = torch.FloatTensor([10]).to(device_gpu)\n",
    "x = torch.FloatTensor([20]).to(device_gpu)\n",
    "print('x: {}, w:{}'.format(x.device,w.device))\n",
    "print('x({})*w({})={}({})'.format(x.device,w.device,x*w,(x*w).device))\n",
    "\n",
    "print('-'*50)\n",
    "w = torch.FloatTensor([10]).to(device_cpu)\n",
    "x = torch.FloatTensor([20]).to(device_gpu)\n",
    "print('x: {}, w:{}'.format(x.device,w.device))\n",
    "print('x({})*w({})={}({})'.format(x.device,w.device,x*w,(x*w).device))"
   ]
  },
  {
   "cell_type": "markdown",
   "id": "bcb5e435",
   "metadata": {},
   "source": [
    "我個人覺得最好的方式是宣告一個device，不管是什麼要計算的，你都丟到你宣告的device就好，比較單純"
   ]
  },
  {
   "cell_type": "markdown",
   "id": "2e0b5529",
   "metadata": {},
   "source": [
    "### 模型開始訓練\n",
    "0. 要用CPU來計算還是GPU: ```device = torch.device(\"cuda\" if (torch.cuda.is_available() & use_cuda) else \"cpu\")```\n",
    "1. Dataloader: ```mydataloader = torch.utils.data.DataLoader(mydatasets, batch_size=3, shuffle=True, num_workers=0)```\n",
    "2. Model宣告: ```model_mlp```, ```model_simple```\n",
    "3. 損失函數: ```loss = torch.nn.CrossEntropyLoss()```\n",
    "4. 最佳化器: ```optimizer_simple```,```optimizer_mlp```"
   ]
  },
  {
   "cell_type": "code",
   "execution_count": 35,
   "id": "b63b054c",
   "metadata": {},
   "outputs": [
    {
     "name": "stdout",
     "output_type": "stream",
     "text": [
      "MLP Train Epoch:0 [98.0%]\tLoss: 1.551965\n",
      "MLP Train Epoch:1 [98.0%]\tLoss: 1.039103\n",
      "MLP Train Epoch:2 [98.0%]\tLoss: 1.150785\n",
      "MLP Train Epoch:3 [98.0%]\tLoss: 1.182669\n",
      "MLP Train Epoch:4 [98.0%]\tLoss: 0.853995\n",
      "MLP Train Epoch:5 [98.0%]\tLoss: 0.753155\n",
      "MLP Train Epoch:6 [98.0%]\tLoss: 0.849270\n",
      "MLP Train Epoch:7 [98.0%]\tLoss: 1.042340\n",
      "MLP Train Epoch:8 [98.0%]\tLoss: 0.912241\n",
      "MLP Train Epoch:9 [98.0%]\tLoss: 0.785957\n",
      "MLP Train Epoch:10 [98.0%]\tLoss: 0.648916\n",
      "MLP Train Epoch:11 [98.0%]\tLoss: 0.760638\n",
      "MLP Train Epoch:12 [98.0%]\tLoss: 0.774778\n",
      "MLP Train Epoch:13 [98.0%]\tLoss: 0.816631\n",
      "MLP Train Epoch:14 [98.0%]\tLoss: 0.728308\n",
      "MLP Train Epoch:15 [98.0%]\tLoss: 0.773191\n",
      "MLP Train Epoch:16 [98.0%]\tLoss: 0.944721\n",
      "MLP Train Epoch:17 [98.0%]\tLoss: 0.826455\n",
      "MLP Train Epoch:18 [98.0%]\tLoss: 0.751935\n",
      "MLP Train Epoch:19 [98.0%]\tLoss: 0.663438\n",
      "MLP Train Epoch:20 [98.0%]\tLoss: 0.747121\n",
      "MLP Train Epoch:21 [98.0%]\tLoss: 0.771797\n",
      "MLP Train Epoch:22 [98.0%]\tLoss: 0.647370\n",
      "MLP Train Epoch:23 [98.0%]\tLoss: 0.636980\n",
      "MLP Train Epoch:24 [98.0%]\tLoss: 0.831712\n",
      "MLP Train Epoch:25 [98.0%]\tLoss: 0.689382\n",
      "MLP Train Epoch:26 [98.0%]\tLoss: 0.971600\n",
      "MLP Train Epoch:27 [98.0%]\tLoss: 0.603199\n",
      "MLP Train Epoch:28 [98.0%]\tLoss: 0.642949\n",
      "MLP Train Epoch:29 [98.0%]\tLoss: 0.817338\n",
      "MLP Train Epoch:30 [98.0%]\tLoss: 0.652195\n",
      "MLP Train Epoch:31 [98.0%]\tLoss: 0.888908\n",
      "MLP Train Epoch:32 [98.0%]\tLoss: 0.690836\n",
      "MLP Train Epoch:33 [98.0%]\tLoss: 0.736701\n",
      "MLP Train Epoch:34 [98.0%]\tLoss: 0.584741\n",
      "MLP Train Epoch:35 [98.0%]\tLoss: 0.601303\n",
      "MLP Train Epoch:36 [98.0%]\tLoss: 0.690821\n",
      "MLP Train Epoch:37 [98.0%]\tLoss: 0.684265\n",
      "MLP Train Epoch:38 [98.0%]\tLoss: 0.612048\n",
      "MLP Train Epoch:39 [98.0%]\tLoss: 0.482396\n",
      "MLP Train Epoch:40 [98.0%]\tLoss: 0.671778\n",
      "MLP Train Epoch:41 [98.0%]\tLoss: 0.528519\n",
      "MLP Train Epoch:42 [98.0%]\tLoss: 0.328614\n",
      "MLP Train Epoch:43 [98.0%]\tLoss: 0.423943\n",
      "MLP Train Epoch:44 [98.0%]\tLoss: 0.438032\n",
      "MLP Train Epoch:45 [98.0%]\tLoss: 0.688676\n",
      "MLP Train Epoch:46 [98.0%]\tLoss: 0.573983\n",
      "MLP Train Epoch:47 [98.0%]\tLoss: 0.590880\n",
      "MLP Train Epoch:48 [98.0%]\tLoss: 0.503389\n",
      "MLP Train Epoch:49 [98.0%]\tLoss: 0.274480\n",
      "MLP Train Epoch:50 [98.0%]\tLoss: 0.430550\n",
      "MLP Train Epoch:51 [98.0%]\tLoss: 0.481783\n",
      "MLP Train Epoch:52 [98.0%]\tLoss: 0.463726\n",
      "MLP Train Epoch:53 [98.0%]\tLoss: 0.667216\n",
      "MLP Train Epoch:54 [98.0%]\tLoss: 0.797572\n",
      "MLP Train Epoch:55 [98.0%]\tLoss: 0.741318\n",
      "MLP Train Epoch:56 [98.0%]\tLoss: 0.370888\n",
      "MLP Train Epoch:57 [98.0%]\tLoss: 0.258125\n",
      "MLP Train Epoch:58 [98.0%]\tLoss: 0.672090\n",
      "MLP Train Epoch:59 [98.0%]\tLoss: 0.314770\n",
      "MLP Train Epoch:60 [98.0%]\tLoss: 0.534391\n",
      "MLP Train Epoch:61 [98.0%]\tLoss: 0.627792\n",
      "MLP Train Epoch:62 [98.0%]\tLoss: 0.376695\n",
      "MLP Train Epoch:63 [98.0%]\tLoss: 0.468276\n",
      "MLP Train Epoch:64 [98.0%]\tLoss: 0.355646\n",
      "MLP Train Epoch:65 [98.0%]\tLoss: 0.243108\n",
      "MLP Train Epoch:66 [98.0%]\tLoss: 0.224021\n",
      "MLP Train Epoch:67 [98.0%]\tLoss: 0.616981\n",
      "MLP Train Epoch:68 [98.0%]\tLoss: 0.557394\n",
      "MLP Train Epoch:69 [98.0%]\tLoss: 0.410184\n",
      "MLP Train Epoch:70 [98.0%]\tLoss: 0.697140\n",
      "MLP Train Epoch:71 [98.0%]\tLoss: 0.414985\n",
      "MLP Train Epoch:72 [98.0%]\tLoss: 0.464377\n",
      "MLP Train Epoch:73 [98.0%]\tLoss: 0.119148\n",
      "MLP Train Epoch:74 [98.0%]\tLoss: 0.507571\n",
      "MLP Train Epoch:75 [98.0%]\tLoss: 0.286377\n",
      "MLP Train Epoch:76 [98.0%]\tLoss: 0.227300\n",
      "MLP Train Epoch:77 [98.0%]\tLoss: 0.495096\n",
      "MLP Train Epoch:78 [98.0%]\tLoss: 0.360210\n",
      "MLP Train Epoch:79 [98.0%]\tLoss: 0.531108\n",
      "MLP Train Epoch:80 [98.0%]\tLoss: 0.317270\n",
      "MLP Train Epoch:81 [98.0%]\tLoss: 0.159888\n",
      "MLP Train Epoch:82 [98.0%]\tLoss: 0.292955\n",
      "MLP Train Epoch:83 [98.0%]\tLoss: 0.519947\n",
      "MLP Train Epoch:84 [98.0%]\tLoss: 0.545460\n",
      "MLP Train Epoch:85 [98.0%]\tLoss: 0.529285\n",
      "MLP Train Epoch:86 [98.0%]\tLoss: 0.244075\n",
      "MLP Train Epoch:87 [98.0%]\tLoss: 0.467134\n",
      "MLP Train Epoch:88 [98.0%]\tLoss: 0.477772\n",
      "MLP Train Epoch:89 [98.0%]\tLoss: 0.267528\n",
      "MLP Train Epoch:90 [98.0%]\tLoss: 0.206590\n",
      "MLP Train Epoch:91 [98.0%]\tLoss: 0.305736\n",
      "MLP Train Epoch:92 [98.0%]\tLoss: 0.571106\n",
      "MLP Train Epoch:93 [98.0%]\tLoss: 0.398516\n",
      "MLP Train Epoch:94 [98.0%]\tLoss: 0.288285\n",
      "MLP Train Epoch:95 [98.0%]\tLoss: 0.431239\n",
      "MLP Train Epoch:96 [98.0%]\tLoss: 0.412269\n",
      "MLP Train Epoch:97 [98.0%]\tLoss: 0.458749\n",
      "MLP Train Epoch:98 [98.0%]\tLoss: 0.220292\n",
      "MLP Train Epoch:99 [98.0%]\tLoss: 0.099344\n"
     ]
    }
   ],
   "source": [
    "use_cuda = 1\n",
    "device = torch.device(\"cuda\" if (torch.cuda.is_available() & use_cuda) else \"cpu\")\n",
    "\n",
    "mydataloader = torch.utils.data.DataLoader(mydatasets, batch_size=50, shuffle=True, num_workers=0)\n",
    "\n",
    "loss = torch.nn.CrossEntropyLoss().to(device)\n",
    "\n",
    "model_mlp = MLP(input_channel=4, n_class=3).to(device)\n",
    "\n",
    "optimizer_mlp = torch.optim.SGD(model_mlp.parameters(), lr=0.0001, momentum=0.9, weight_decay=0.02)\n",
    "n_epoch = 100\n",
    "model_mlp.train()\n",
    "model_simple.train()\n",
    "\n",
    "for epoch in range(n_epoch):\n",
    "    for batch_idx, (data, target) in enumerate(mydataloader_shu):\n",
    "        data=data.to(device)\n",
    "        target=target.to(device)\n",
    "\n",
    "        output_mlp = model_mlp(data)\n",
    "        loss_mlp = loss(output_mlp, target) # batch * n_class, target: batch    \n",
    "        optimizer_mlp.zero_grad()\n",
    "        loss_mlp.backward()\n",
    "        optimizer_mlp.step()\n",
    "        \n",
    "    print('MLP Train Epoch:{} [{:.1f}%]\\tLoss: {:.6f}'.format(\n",
    "        epoch, \n",
    "        100. * batch_idx / len(mydataloader_shu), \n",
    "        loss_mlp.item())\n",
    "         )\n",
    "            "
   ]
  },
  {
   "cell_type": "markdown",
   "id": "f8bcd2d6",
   "metadata": {},
   "source": [
    "## 2. 完整操作:以BOSTON房價為例"
   ]
  },
  {
   "cell_type": "code",
   "execution_count": 50,
   "id": "10b8a27a",
   "metadata": {},
   "outputs": [
    {
     "name": "stdout",
     "output_type": "stream",
     "text": [
      "epoch:0/100\n",
      "epoch:50/100\n",
      "training done.\n"
     ]
    }
   ],
   "source": [
    "from sklearn.datasets import load_boston\n",
    "from sklearn.model_selection import train_test_split\n",
    "import torch\n",
    "import torchvision.transforms.functional as FT\n",
    "from torchvision import transforms\n",
    "import torch.nn as nn\n",
    "import numpy as np\n",
    "\n",
    "def load_boston_sklearn():\n",
    "    X, Y = load_boston(return_X_y=True)\n",
    "    for i in range(13):\n",
    "        X[:,i]=(X[:,i]-np.mean(X[:,i]))/np.std(X[:,i])\n",
    "    X_train, X_test, Y_train, Y_test = train_test_split(X, Y, test_size = 0.2, random_state=2022)\n",
    "    return  X_train, X_test, Y_train, Y_test\n",
    "\n",
    "use_cuda=0\n",
    "device = torch.device(\"cuda\" if (torch.cuda.is_available() & use_cuda) else \"cpu\")\n",
    "\n",
    "\n",
    "# Step 1: data loader\n",
    "X_train, X_test, Y_train, Y_test = load_boston_sklearn()\n",
    "X_train = torch.tensor(X_train, dtype=torch.float)\n",
    "Y_train = torch.tensor(Y_train, dtype=torch.float).view(-1, 1)\n",
    "X_test = torch.tensor(X_test, dtype=torch.float)\n",
    "Y_test = torch.tensor(Y_test, dtype=torch.float).view(-1, 1)\n",
    "mydatasets_train = torch.utils.data.TensorDataset(X_train, Y_train)\n",
    "mydatasets_test = torch.utils.data.TensorDataset(X_test, Y_test)\n",
    "dataloader_train = torch.utils.data.DataLoader(mydatasets_train, batch_size=5, shuffle=True)\n",
    "dataloader_test = torch.utils.data.DataLoader(mydatasets_test, batch_size=5, shuffle=False)\n",
    "\n",
    "# Step 2: model \n",
    "w_num = X_train.shape[1]\n",
    "model_MLP = torch.nn.Sequential(\n",
    "    torch.nn.Linear(w_num, w_num*2),\n",
    "    torch.nn.Linear(w_num*2, w_num*4),\n",
    "    torch.nn.Linear(w_num*4, 1),\n",
    ")\n",
    "model_LR = torch.nn.Sequential(\n",
    "    torch.nn.Linear(w_num, 1)\n",
    ")\n",
    "model_MLP=model_MLP.to(device)\n",
    "model_LR=model_LR.to(device)\n",
    "\n",
    "# step 3: loss function\n",
    "loss = torch.nn.MSELoss().to(device)\n",
    "# step4. optimator\n",
    "optimizer_MLP = torch.optim.Adam(model_MLP.parameters(), lr=0.01)\n",
    "optimizer_LR = torch.optim.Adam(model_LR.parameters(), lr=0.01)\n",
    "\n",
    "# step 5. model training\n",
    "n_epoch = 100\n",
    "model_MLP.train()\n",
    "model_LR.train()\n",
    "train_loss_LR, train_loss_MLP = [],[]\n",
    "performance_test=[]\n",
    "for epoch in range(n_epoch):\n",
    "    if epoch % 50 ==0:\n",
    "        print('epoch:{}/{}'. format(epoch, n_epoch))\n",
    "    for batch_idx, (data, target) in enumerate(dataloader_train):\n",
    "        data, target = data.to(device), target.to(device)\n",
    "        \n",
    "        output_lr = model_LR(data)\n",
    "        loss_lr = loss(output_lr,target) \n",
    "        optimizer_LR.zero_grad()\n",
    "        loss_lr.backward()\n",
    "        optimizer_LR.step()\n",
    "        \n",
    "        output_mlp = model_MLP(data)\n",
    "        loss_mlp = loss(output_mlp,target) \n",
    "        optimizer_MLP.zero_grad()\n",
    "        loss_mlp.backward()\n",
    "        optimizer_MLP.step()\n",
    "        \n",
    "        train_loss_LR.append(loss_lr.cpu().detach().numpy())\n",
    "        train_loss_MLP.append(loss_mlp.cpu().detach().numpy())\n",
    "        \n",
    "    # Test\n",
    "    model_LR.eval()\n",
    "    model_MLP.eval()\n",
    "    test_loss_mlp,  test_loss_lr= 0, 0    \n",
    "    with torch.no_grad():\n",
    "        for data, target in dataloader_test:\n",
    "            data, target = data.to(device), target.to(device)\n",
    "             # model_LR\n",
    "            output_lr = model_LR(data)\n",
    "            loss_lr = loss(output_lr, target) \n",
    "            test_loss_lr+=loss_lr\n",
    "            # MLP\n",
    "            output_mlp = model_MLP(data)\n",
    "            loss_mlp = loss(output_mlp,target) \n",
    "            test_loss_mlp+=loss_mlp\n",
    "    test_loss_lr/=len(dataloader_test)\n",
    "    test_loss_mlp/=len(dataloader_test)\n",
    "    performance_test.append([test_loss_lr, test_loss_mlp])       \n",
    "print('training done.')\n",
    "\n"
   ]
  },
  {
   "cell_type": "code",
   "execution_count": 51,
   "id": "a20e214c",
   "metadata": {},
   "outputs": [
    {
     "data": {
      "image/png": "[encoded data removed]",
      "text/plain": [
       "<Figure size 432x288 with 1 Axes>"
      ]
     },
     "metadata": {
      "needs_background": "light"
     },
     "output_type": "display_data"
    },
    {
     "data": {
      "image/png": "[encoded data removed]",
      "text/plain": [
       "<Figure size 432x288 with 1 Axes>"
      ]
     },
     "metadata": {
      "needs_background": "light"
     },
     "output_type": "display_data"
    }
   ],
   "source": [
    "import matplotlib.pyplot as plt\n",
    "plt.plot(train_loss_LR,label='Linear Regression')\n",
    "plt.plot(train_loss_MLP,label='MLP')\n",
    "plt.title('Train Phase')\n",
    "plt.legend()\n",
    "plt.show()\n",
    "\n",
    "performance_test=np.array(performance_test)\n",
    "plt.plot(performance_test[:,0],label='Linear Regression')\n",
    "plt.plot(performance_test[:,1],label='MLP')\n",
    "plt.title('Test Phase')\n",
    "plt.legend()\n",
    "plt.show()\n"
   ]
  },
  {
   "cell_type": "code",
   "execution_count": 52,
   "id": "521fecb1",
   "metadata": {},
   "outputs": [
    {
     "name": "stdout",
     "output_type": "stream",
     "text": [
      "Correlation between preds and gts (Torch):  0.8065631852939095\n",
      "Correlation between preds and gts (Torch):  0.8068824166199429\n"
     ]
    },
    {
     "data": {
      "image/png": "[encoded data removed]",
      "text/plain": [
       "<Figure size 576x360 with 1 Axes>"
      ]
     },
     "metadata": {
      "needs_background": "light"
     },
     "output_type": "display_data"
    }
   ],
   "source": [
    "data = torch.FloatTensor(X_test).to(device)\n",
    "data = torch.unsqueeze(data, 0)\n",
    "model_LR.eval()\n",
    "model_MLP.eval()\n",
    "with torch.no_grad():\n",
    "    output_lr = model_LR(data)\n",
    "    output_mlp = model_MLP(data)\n",
    "\n",
    "Y_test = torch.squeeze(Y_test)\n",
    "\n",
    "output_lr = torch.squeeze(output_lr)\n",
    "output_lr = output_lr.cpu().detach().numpy()\n",
    "print('Correlation between preds and gts (Torch): ', np.corrcoef(output_lr, Y_test.cpu().detach().numpy())[0,1])\n",
    "\n",
    "output_mlp = torch.squeeze(output_mlp)\n",
    "output_mlp = output_mlp.cpu().detach().numpy()\n",
    "print('Correlation between preds and gts (Torch): ', np.corrcoef(output_mlp, Y_test.cpu().detach().numpy())[0,1])\n",
    "\n",
    "# whole plot size\n",
    "plt.figure(figsize=(8, 5))\n",
    "plt.scatter(output_lr, Y_test,label='LR')\n",
    "plt.scatter(output_mlp, Y_test,label='MLP')\n",
    "plt.xlabel('Y_pred')\n",
    "plt.ylabel('Y_test')\n",
    "plt.title('torch')\n",
    "plt.legend()\n",
    "plt.show()"
   ]
  },
  {
   "cell_type": "code",
   "execution_count": 53,
   "id": "422ec809",
   "metadata": {},
   "outputs": [
    {
     "data": {
      "image/png": "[encoded data removed]",
      "text/plain": [
       "<Figure size 576x360 with 1 Axes>"
      ]
     },
     "metadata": {
      "needs_background": "light"
     },
     "output_type": "display_data"
    }
   ],
   "source": [
    "from sklearn.linear_model import LinearRegression\n",
    "import matplotlib.pyplot as plt\n",
    "reg = LinearRegression()\n",
    "reg.fit(X_train,Y_train)\n",
    "# whole plot size\n",
    "plt.figure(figsize=(8, 5))\n",
    "Y_pred = reg.predict(X_test)\n",
    "plt.scatter(Y_pred, Y_test)\n",
    "plt.title('Correlation between preds and gts: {}'.format(reg.score(X_test, Y_test)))\n",
    "plt.xlabel('Y_pred')\n",
    "plt.ylabel('Y_test')\n",
    "plt.show()"
   ]
  },
  {
   "cell_type": "code",
   "execution_count": 54,
   "id": "95786c51",
   "metadata": {},
   "outputs": [
    {
     "name": "stdout",
     "output_type": "stream",
     "text": [
      "--------------------------------------------------\n",
      "Weight in pytorch:\n",
      "[[-0.92126554  0.87442577  0.15514416  0.70873135 -1.5027224   3.388292\n",
      "  -0.33601698 -3.0378006   2.052869   -1.4733106  -1.9063096   0.95932823\n",
      "  -3.6742105 ]]\n",
      "bias in pytorch:\n",
      "[22.519491]\n",
      "--------------------------------------------------\n",
      "Weight in sklearn:\n",
      "[[-0.93972385  0.972992    0.33738798  0.6990202  -1.5908797   3.3077586\n",
      "  -0.33648655 -3.0191772   2.598061   -2.0816858  -1.9368783   0.9439242\n",
      "  -3.717811  ]]\n",
      "bias in sklearn:\n",
      "[22.53343]\n"
     ]
    }
   ],
   "source": [
    "print('-'*50)\n",
    "print('Weight in pytorch:\\n{}'.format(model_LR[0].weight.detach().numpy()))\n",
    "print('bias in pytorch:\\n{}'.format(model_LR[0].bias.detach().numpy()))\n",
    "print('-'*50)\n",
    "print('Weight in sklearn:\\n{}'.format(reg.coef_))\n",
    "print('bias in sklearn:\\n{}'.format(reg.intercept_))"
   ]
  },
  {
   "cell_type": "code",
   "execution_count": null,
   "id": "ab02c147",
   "metadata": {},
   "outputs": [],
   "source": []
  }
 ],
 "metadata": {
  "kernelspec": {
   "display_name": "Python 3 (ipykernel)",
   "language": "python",
   "name": "python3"
  },
  "language_info": {
   "codemirror_mode": {
    "name": "ipython",
    "version": 3
   },
   "file_extension": ".py",
   "mimetype": "text/x-python",
   "name": "python",
   "nbconvert_exporter": "python",
   "pygments_lexer": "ipython3",
   "version": "3.9.13"
  }
 },
 "nbformat": 4,
 "nbformat_minor": 5
}
