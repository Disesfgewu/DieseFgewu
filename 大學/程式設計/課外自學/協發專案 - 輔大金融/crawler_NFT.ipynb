{
 "cells": [
  {
   "attachments": {},
   "cell_type": "markdown",
   "metadata": {},
   "source": [
    "# Including the Libraries using in the program"
   ]
  },
  {
   "cell_type": "code",
   "execution_count": 18,
   "metadata": {},
   "outputs": [],
   "source": [
    "import urllib.request as req\n",
    "import json\n",
    "import requests"
   ]
  },
  {
   "attachments": {},
   "cell_type": "markdown",
   "metadata": {},
   "source": [
    "# Declare the Constants and Constant Lists we using in the program "
   ]
  },
  {
   "cell_type": "code",
   "execution_count": 19,
   "metadata": {},
   "outputs": [],
   "source": [
    "IP = [ 'sold' , 'price' , 'priceUSD' , 'buyer' , 'seller' ]\n",
    "IP2 = [ \"timeStanp\" , \"fromDisplay\" , \"toDisplay\" ]\n",
    "file_name_list = [ \"BAYC_High.txt\" , \"BAYC_Low.txt\" , \"MAYC_High.txt\" , \"MAYC_Low.txt\" ]"
   ]
  },
  {
   "attachments": {},
   "cell_type": "markdown",
   "metadata": {},
   "source": [
    "# Define the file list function to Get which Number of Data we are going to catch"
   ]
  },
  {
   "cell_type": "code",
   "execution_count": 20,
   "metadata": {},
   "outputs": [],
   "source": [
    "def generate_file_list( file_name ) :\n",
    "    with open( file_name , \"r\" , encoding = \"utf-8\" ) as file :\n",
    "        get_imformation = file.read().splitlines()\n",
    "    return get_imformation"
   ]
  },
  {
   "attachments": {},
   "cell_type": "markdown",
   "metadata": {},
   "source": [
    "# Get imformations to the File"
   ]
  },
  {
   "cell_type": "code",
   "execution_count": 21,
   "metadata": {},
   "outputs": [
    {
     "name": "stdout",
     "output_type": "stream",
     "text": [
      "start get sales\n",
      "https://web-api.cryptoslam.io/api-gateway/v1/mint/bored-ape-yacht-club/token/3953/sales\n",
      "start get sales\n",
      "https://web-api.cryptoslam.io/api-gateway/v1/mint/bored-ape-yacht-club/token/8135/sales\n",
      "start get sales\n",
      "https://web-api.cryptoslam.io/api-gateway/v1/mint/bored-ape-yacht-club/token/73/sales\n",
      "start get sales\n",
      "https://web-api.cryptoslam.io/api-gateway/v1/mint/bored-ape-yacht-club/token/4980/sales\n",
      "start get sales\n",
      "https://web-api.cryptoslam.io/api-gateway/v1/mint/bored-ape-yacht-club/token/7449/sales\n",
      "start get sales\n",
      "https://web-api.cryptoslam.io/api-gateway/v1/mint/bored-ape-yacht-club/token/3749/sales\n",
      "start get sales\n",
      "https://web-api.cryptoslam.io/api-gateway/v1/mint/bored-ape-yacht-club/token/8976/sales\n",
      "start get sales\n",
      "https://web-api.cryptoslam.io/api-gateway/v1/mint/bored-ape-yacht-club/token/7265/sales\n",
      "start get sales\n",
      "https://web-api.cryptoslam.io/api-gateway/v1/mint/bored-ape-yacht-club/token/2794/sales\n",
      "start get sales\n",
      "https://web-api.cryptoslam.io/api-gateway/v1/mint/bored-ape-yacht-club/token/3483/sales\n",
      "start get sales\n",
      "https://web-api.cryptoslam.io/api-gateway/v1/mint/bored-ape-yacht-club/token/5840/sales\n",
      "start get sales\n",
      "https://web-api.cryptoslam.io/api-gateway/v1/mint/bored-ape-yacht-club/token/8854/sales\n",
      "start get sales\n",
      "https://web-api.cryptoslam.io/api-gateway/v1/mint/bored-ape-yacht-club/token/6819/sales\n",
      "start get sales\n",
      "https://web-api.cryptoslam.io/api-gateway/v1/mint/bored-ape-yacht-club/token/5515/sales\n",
      "start get sales\n",
      "https://web-api.cryptoslam.io/api-gateway/v1/mint/bored-ape-yacht-club/token/236/sales\n",
      "start get sales\n",
      "https://web-api.cryptoslam.io/api-gateway/v1/mint/bored-ape-yacht-club/token/5757/sales\n",
      "start get sales\n",
      "https://web-api.cryptoslam.io/api-gateway/v1/mint/bored-ape-yacht-club/token/7740/sales\n",
      "start get sales\n",
      "https://web-api.cryptoslam.io/api-gateway/v1/mint/bored-ape-yacht-club/token/8552/sales\n",
      "start get sales\n",
      "https://web-api.cryptoslam.io/api-gateway/v1/mint/bored-ape-yacht-club/token/2488/sales\n",
      "start get sales\n",
      "https://web-api.cryptoslam.io/api-gateway/v1/mint/bored-ape-yacht-club/token/8877/sales\n",
      "start get sales\n",
      "https://web-api.cryptoslam.io/api-gateway/v1/mint/bored-ape-yacht-club/token/528/sales\n",
      "start get sales\n",
      "https://web-api.cryptoslam.io/api-gateway/v1/mint/bored-ape-yacht-club/token/208/sales\n",
      "start get sales\n",
      "https://web-api.cryptoslam.io/api-gateway/v1/mint/bored-ape-yacht-club/token/8633/sales\n",
      "start get sales\n",
      "https://web-api.cryptoslam.io/api-gateway/v1/mint/bored-ape-yacht-club/token/544/sales\n",
      "start get sales\n",
      "https://web-api.cryptoslam.io/api-gateway/v1/mint/bored-ape-yacht-club/token/4177/sales\n",
      "start get transfers\n",
      "https://web-api.cryptoslam.io/api-gateway/v1/mint/bored-ape-yacht-club/token/3953/transfers\n",
      "start get transfers\n",
      "https://web-api.cryptoslam.io/api-gateway/v1/mint/bored-ape-yacht-club/token/8135/transfers\n",
      "start get transfers\n",
      "https://web-api.cryptoslam.io/api-gateway/v1/mint/bored-ape-yacht-club/token/73/transfers\n",
      "start get transfers\n",
      "https://web-api.cryptoslam.io/api-gateway/v1/mint/bored-ape-yacht-club/token/4980/transfers\n",
      "start get transfers\n",
      "https://web-api.cryptoslam.io/api-gateway/v1/mint/bored-ape-yacht-club/token/7449/transfers\n",
      "start get transfers\n",
      "https://web-api.cryptoslam.io/api-gateway/v1/mint/bored-ape-yacht-club/token/3749/transfers\n",
      "start get transfers\n",
      "https://web-api.cryptoslam.io/api-gateway/v1/mint/bored-ape-yacht-club/token/8976/transfers\n",
      "start get transfers\n",
      "https://web-api.cryptoslam.io/api-gateway/v1/mint/bored-ape-yacht-club/token/7265/transfers\n",
      "start get transfers\n",
      "https://web-api.cryptoslam.io/api-gateway/v1/mint/bored-ape-yacht-club/token/2794/transfers\n",
      "start get transfers\n",
      "https://web-api.cryptoslam.io/api-gateway/v1/mint/bored-ape-yacht-club/token/3483/transfers\n",
      "start get transfers\n",
      "https://web-api.cryptoslam.io/api-gateway/v1/mint/bored-ape-yacht-club/token/5840/transfers\n",
      "start get transfers\n",
      "https://web-api.cryptoslam.io/api-gateway/v1/mint/bored-ape-yacht-club/token/8854/transfers\n",
      "start get transfers\n",
      "https://web-api.cryptoslam.io/api-gateway/v1/mint/bored-ape-yacht-club/token/6819/transfers\n",
      "start get transfers\n",
      "https://web-api.cryptoslam.io/api-gateway/v1/mint/bored-ape-yacht-club/token/5515/transfers\n",
      "start get transfers\n",
      "https://web-api.cryptoslam.io/api-gateway/v1/mint/bored-ape-yacht-club/token/236/transfers\n",
      "start get transfers\n",
      "https://web-api.cryptoslam.io/api-gateway/v1/mint/bored-ape-yacht-club/token/5757/transfers\n",
      "start get transfers\n",
      "https://web-api.cryptoslam.io/api-gateway/v1/mint/bored-ape-yacht-club/token/7740/transfers\n",
      "start get transfers\n",
      "https://web-api.cryptoslam.io/api-gateway/v1/mint/bored-ape-yacht-club/token/8552/transfers\n",
      "start get transfers\n",
      "https://web-api.cryptoslam.io/api-gateway/v1/mint/bored-ape-yacht-club/token/2488/transfers\n",
      "start get transfers\n",
      "https://web-api.cryptoslam.io/api-gateway/v1/mint/bored-ape-yacht-club/token/8877/transfers\n",
      "start get transfers\n",
      "https://web-api.cryptoslam.io/api-gateway/v1/mint/bored-ape-yacht-club/token/528/transfers\n",
      "start get transfers\n",
      "https://web-api.cryptoslam.io/api-gateway/v1/mint/bored-ape-yacht-club/token/208/transfers\n",
      "start get transfers\n",
      "https://web-api.cryptoslam.io/api-gateway/v1/mint/bored-ape-yacht-club/token/8633/transfers\n",
      "start get transfers\n",
      "https://web-api.cryptoslam.io/api-gateway/v1/mint/bored-ape-yacht-club/token/544/transfers\n",
      "start get transfers\n",
      "https://web-api.cryptoslam.io/api-gateway/v1/mint/bored-ape-yacht-club/token/4177/transfers\n"
     ]
    }
   ],
   "source": [
    "for file_name in range( len(file_name_list) ) :\n",
    "    file = file_name_list[file_name] + \"_sales2\" + \".txt\"\n",
    "    f = open(file, \"w+\", encoding='utf-8')\n",
    "    for start in generate_file_list( file_name_list[ file_name ] ) :\n",
    "        url = \"\"\n",
    "        if file_name == 0 or file_name == 1 :\n",
    "            url = \"https://web-api.cryptoslam.io/api-gateway/v1/mint/bored-ape-yacht-club/token/\" + start + \"/sales\"\n",
    "        else :\n",
    "            url = \"https://web-api.cryptoslam.io/api-gateway/v1/mint/mutant-ape-yacht-club/token/\" + start + \"/sales\"\n",
    "        request = req.Request(url, headers={\n",
    "                \"User-Agent\": \"Mozilla/5.0 (iPhone; CPU iPhone OS 13_2_3 like Mac OS X) AppleWebKit/605.1.15 (KHTML, like Gecko) Version/13.0.3 Mobile/15E148 Safari/604.1\"\n",
    "        })\n",
    "        r = requests.get(url)\n",
    "        if r.status_code != 200:\n",
    "            continue\n",
    "        with req.urlopen(request) as response:\n",
    "            data = json.load(response)\n",
    "        f.write( \"sales_\" + start + \"\\n\" )\n",
    "        for get in data:\n",
    "            f.write( \"sold \" + str(get['timeStamp']) + \" \" )\n",
    "            f.write( \"price \" + str(get['price'] )+ \" \" )\n",
    "            f.write( \"priceUSD \" + str(get['priceUSD']) + \" \" )\n",
    "            f.write( \"buyer \" + str(get['buyerDisplay']) + \" \" )\n",
    "            f.write( \"seller \" + str(get['sellerDisplay']) + \" \" )\n",
    "            f.write( '\\n' )\n",
    "    f.close()\n",
    "    file = file_name_list[file_name] + \"_transfers\" + \".txt\"\n",
    "    f = open(file, \"w+\", encoding='utf-8')\n",
    "    for start in generate_file_list( file_name_list[ file_name ] ) :\n",
    "        url = \"\"\n",
    "        if file_name == 0 or file_name == 1 :\n",
    "            url = \"https://web-api.cryptoslam.io/api-gateway/v1/mint/bored-ape-yacht-club/token/\" + start + \"/transfers\"\n",
    "        else :\n",
    "            url =  \"https://web-api.cryptoslam.io/api-gateway/v1/mint/mutant-ape-yacht-club/token/\" + start + \"/transfers\"\n",
    "        request = req.Request(url, headers={\n",
    "                \"User-Agent\": \"Mozilla/5.0 (iPhone; CPU iPhone OS 13_2_3 like Mac OS X) AppleWebKit/605.1.15 (KHTML, like Gecko) Version/13.0.3 Mobile/15E148 Safari/604.1\"\n",
    "        })\n",
    "        r = requests.get(url)\n",
    "        if r.status_code != 200:\n",
    "            continue\n",
    "        with req.urlopen(request) as response:\n",
    "            data = json.load(response)\n",
    "        f.write( \"transfers_\" + start + \"\\n\" )\n",
    "        for get in data:\n",
    "            f.write( \"transfered \" + str( get['timeStamp']) + \" \" )\n",
    "            f.write( \"from \" + str( get['fromDisplay']) + \" \" )\n",
    "            f.write( \"to \" + str( get['toDisplay']) + \" \" )\n",
    "            f.write( '\\n' )\n",
    "    f.close()"
   ]
  }
 ],
 "metadata": {
  "kernelspec": {
   "display_name": "Python 3",
   "language": "python",
   "name": "python3"
  },
  "language_info": {
   "codemirror_mode": {
    "name": "ipython",
    "version": 3
   },
   "file_extension": ".py",
   "mimetype": "text/x-python",
   "name": "python",
   "nbconvert_exporter": "python",
   "pygments_lexer": "ipython3",
   "version": "3.9.5"
  },
  "orig_nbformat": 4,
  "vscode": {
   "interpreter": {
    "hash": "a077222d77dfe082b8f1dd562ad70e458ac2ab76993a0b248ab0476e32e9e8dd"
   }
  }
 },
 "nbformat": 4,
 "nbformat_minor": 2
}
